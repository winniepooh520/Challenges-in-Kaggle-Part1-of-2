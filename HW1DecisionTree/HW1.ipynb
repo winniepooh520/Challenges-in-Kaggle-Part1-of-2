{
 "cells": [
  {
   "cell_type": "markdown",
   "metadata": {},
   "source": [
    "HW1 - Decision Tree\n",
    "\n",
    "本次作業為預測角色是否死亡 (繳交期限：10/15 23:55)\n",
    "\n",
    "資料集在以下網址:\n",
    "\n",
    "https://www.kaggle.com/mylesoneill/game-of-thrones\n",
    "\n",
    "其中第二份資料的character-deaths.csv\n",
    "\n",
    "其中三個欄位 Death Year , Book of Death , Death Chapter 取其中一個欄位當預測目標用即可\n",
    "\n",
    "請將欄位的空值轉成0(代表存活)，有數值的轉成1(代表死亡)\n",
    "\n",
    "\n",
    "作業流程&要求 ※請使用python處理，可以使用任何套件\n",
    "\n",
    "1)將資料讀取進來(可用pandas套件)\n",
    "\n",
    "2)資料前處理\n",
    "\n",
    " 2-1把空值以0替代\n",
    "\n",
    " 2-2Death Year , Book of Death , Death Chapter三者取一個，將有數值的轉成1\n",
    "\n",
    " 2-3將Allegiances轉成dummy特徵(底下有幾種分類就會變成幾個特徵，值是0或1，本來的資料集就會再增加約20種特徵)\n",
    "\n",
    " 2-4亂數拆成訓練集(75%)與測試集(25%) \n",
    "\n",
    "3)使用scikit-learn的DecisionTreeClassifier進行預測(可以先試著將網頁範例(iris)跑出來在使用這次作業的資料集)\n",
    "\n",
    "4)做出Confusion Matrix，並計算Precision, Recall, Accuracy (提示: 可使用sklearn.metrics)\n",
    "\n",
    "5)產出決策樹的圖\n",
    "\n",
    "  p.s 記得限制樹的深度，以免結果無法顯示\n",
    "\n",
    " \n",
    "\n",
    "請將(4)(5)的結果截圖上傳(word 或 PDF)，並上傳python程式碼。\n",
    "\n",
    "可以嘗試改善資料前處理部分&調整決策樹參數以增加Accuracy\n",
    " \n",
    "\n",
    "要上傳的東西:\n",
    "\n",
    "1.Word/PDF(截圖跟簡短說明、討論等等)\n",
    "\n",
    "2.Python程式碼(.py檔)\n",
    "\n",
    " \n",
    "\n",
    "有任何問題請email聯繫助教\n",
    "\n",
    " \n",
    "\n",
    "參考:\n",
    "\n",
    "1. 推薦用Anaconda安裝python環境，包含Jupyter Notebook、Spyder等IDE以及相關套件\n",
    "\n",
    "2. scikit-learn上的決策樹教學\n",
    "\n",
    "http://scikit-learn.org/stable/modules/tree.html\n",
    "\n",
    "3. 若(5)graphviz發生問題，請試試看conda install graphviz並重啟IDE\n",
    "\n",
    "https://stackoverflow.com/questions/28312534/graphvizs-executables-are-not-found-python-3-4\n",
    "\n"
   ]
  },
  {
   "cell_type": "code",
   "execution_count": 16,
   "metadata": {},
   "outputs": [
    {
     "name": "stdout",
     "output_type": "stream",
     "text": [
      "<class 'pandas.core.frame.DataFrame'>\n",
      "RangeIndex: 917 entries, 0 to 916\n",
      "Data columns (total 13 columns):\n",
      " #   Column              Non-Null Count  Dtype  \n",
      "---  ------              --------------  -----  \n",
      " 0   Name                917 non-null    object \n",
      " 1   Allegiances         917 non-null    object \n",
      " 2   Death Year          305 non-null    float64\n",
      " 3   Book of Death       307 non-null    float64\n",
      " 4   Death Chapter       299 non-null    float64\n",
      " 5   Book Intro Chapter  905 non-null    float64\n",
      " 6   Gender              917 non-null    int64  \n",
      " 7   Nobility            917 non-null    int64  \n",
      " 8   GoT                 917 non-null    int64  \n",
      " 9   CoK                 917 non-null    int64  \n",
      " 10  SoS                 917 non-null    int64  \n",
      " 11  FfC                 917 non-null    int64  \n",
      " 12  DwD                 917 non-null    int64  \n",
      "dtypes: float64(4), int64(7), object(2)\n",
      "memory usage: 93.3+ KB\n"
     ]
    }
   ],
   "source": [
    "\"\"\"\n",
    "1)將資料讀取進來(可用pandas套件)\n",
    "\"\"\"\n",
    "# loading package\n",
    "#並合併train&test data\n",
    "import numpy as np \n",
    "import pandas as pd\n",
    "import matplotlib.pyplot as plt \n",
    "import seaborn as sns \n",
    "%matplotlib inline\n",
    "sns.set(font_scale=1.56)\n",
    "from sklearn.ensemble import RandomForestClassifier\n",
    "from sklearn.model_selection import cross_val_score, StratifiedKFold, learning_curve, train_test_split\n",
    "from sklearn.preprocessing import LabelEncoder\n",
    "from sklearn.feature_selection import RFECV\n",
    "\n",
    "# loading data\n",
    "data = pd.read_csv(\"character-deaths.csv\")\n",
    "data.info()"
   ]
  },
  {
   "cell_type": "code",
   "execution_count": 4,
   "metadata": {},
   "outputs": [
    {
     "data": {
      "application/vnd.jupyter.widget-view+json": {
       "model_id": "0d17361c0b294f409b92d44a5931f8c1",
       "version_major": 2,
       "version_minor": 0
      },
      "text/plain": [
       "HBox(children=(FloatProgress(value=0.0, description='Summarize dataset', max=27.0, style=ProgressStyle(descrip…"
      ]
     },
     "metadata": {},
     "output_type": "display_data"
    },
    {
     "name": "stdout",
     "output_type": "stream",
     "text": [
      "\n"
     ]
    },
    {
     "data": {
      "application/vnd.jupyter.widget-view+json": {
       "model_id": "c9e670db3cdc45af859ef75babf6d83d",
       "version_major": 2,
       "version_minor": 0
      },
      "text/plain": [
       "HBox(children=(FloatProgress(value=0.0, description='Generate report structure', max=1.0, style=ProgressStyle(…"
      ]
     },
     "metadata": {},
     "output_type": "display_data"
    },
    {
     "name": "stdout",
     "output_type": "stream",
     "text": [
      "\n"
     ]
    },
    {
     "data": {
      "application/vnd.jupyter.widget-view+json": {
       "model_id": "0b3bb07ba91a4eddb73eb7c731da920b",
       "version_major": 2,
       "version_minor": 0
      },
      "text/plain": [
       "HBox(children=(FloatProgress(value=0.0, description='Render HTML', max=1.0, style=ProgressStyle(description_wi…"
      ]
     },
     "metadata": {},
     "output_type": "display_data"
    },
    {
     "name": "stdout",
     "output_type": "stream",
     "text": [
      "\n"
     ]
    },
    {
     "data": {
      "application/vnd.jupyter.widget-view+json": {
       "model_id": "80a7373bf5494f54b96fefb63b890963",
       "version_major": 2,
       "version_minor": 0
      },
      "text/plain": [
       "HBox(children=(FloatProgress(value=0.0, description='Export report to file', max=1.0, style=ProgressStyle(desc…"
      ]
     },
     "metadata": {},
     "output_type": "display_data"
    },
    {
     "name": "stdout",
     "output_type": "stream",
     "text": [
      "\n"
     ]
    }
   ],
   "source": [
    "from pandas_profiling import ProfileReport\n",
    "\n",
    "profile = ProfileReport(data, title='Pandas Profiling Report')\n",
    "profile.to_file(\"your_report.html\")"
   ]
  },
  {
   "cell_type": "code",
   "execution_count": 17,
   "metadata": {},
   "outputs": [
    {
     "name": "stdout",
     "output_type": "stream",
     "text": [
      "Index(['name', 'allegiances', 'death_year', 'book_of_death', 'death_chapter',\n",
      "       'book_intro_chapter', 'gender', 'nobility', 'got', 'cok', 'sos', 'ffc',\n",
      "       'dwd'],\n",
      "      dtype='object')\n"
     ]
    }
   ],
   "source": [
    "\"\"\"\n",
    "2)資料前處理\n",
    "\"\"\"\n",
    "# Column Name中的空格用\"_\"替代\n",
    "# DataFrame.columns \n",
    "# print(data.columns)\n",
    "# >>>Index(['Name', 'Allegiances', 'Death Year', 'Book of Death', 'Death Chapter',\n",
    "#        'Book Intro Chapter', 'Gender', 'Nobility', 'GoT', 'CoK', 'SoS', 'FfC',\n",
    "#        'DwD'],\n",
    "#       dtype='object')\n",
    "\n",
    "def clean_col(col):\n",
    "    col = col.replace(\" \",\"_\")\n",
    "    col = col.lower()\n",
    "    return col\n",
    "\n",
    "#Used a loop to apply the function to each item in the index object and assign it back to \n",
    "#the DataFrame.columns attribute.\n",
    "new_columns = []\n",
    "for c in data.columns:\n",
    "    clean_c = clean_col(c)\n",
    "    new_columns.append(clean_c)\n",
    "\n",
    "data.columns = new_columns\n",
    "print(data.columns)"
   ]
  },
  {
   "cell_type": "code",
   "execution_count": 6,
   "metadata": {},
   "outputs": [
    {
     "data": {
      "text/plain": [
       "array([ nan, 299., 300., 298., 297.])"
      ]
     },
     "execution_count": 6,
     "metadata": {},
     "output_type": "execute_result"
    }
   ],
   "source": [
    "data[\"death_year\"].unique()"
   ]
  },
  {
   "cell_type": "code",
   "execution_count": 7,
   "metadata": {},
   "outputs": [
    {
     "data": {
      "text/plain": [
       "array([nan,  3.,  5.,  4.,  2.,  1.])"
      ]
     },
     "execution_count": 7,
     "metadata": {},
     "output_type": "execute_result"
    }
   ],
   "source": [
    "data[\"book_of_death\"].unique()  # nan前面沒有空格、unique值分僅5組，且空值佔比為三者中最低(見your_report.html)→選用"
   ]
  },
  {
   "cell_type": "code",
   "execution_count": 8,
   "metadata": {},
   "outputs": [
    {
     "data": {
      "text/plain": [
       "array([nan, 51., 20., 35., 56.,  4., 46., 10., 34., 47., 41., 21., 33.,\n",
       "       39., 52., 37., 24., 31., 27., 62., 65.,  7., 49., 50., 42., 30.,\n",
       "       66., 64., 29.,  0., 53., 58., 76., 63., 55., 14., 61., 12., 68.,\n",
       "       69., 80., 36.,  1., 19., 72., 59., 43., 70., 75., 11.,  3., 60.,\n",
       "       26., 44., 67., 45., 18., 23., 57., 25., 16., 17., 48.,  9.,  2.,\n",
       "        6., 32., 77., 74., 40., 38., 73.])"
      ]
     },
     "execution_count": 8,
     "metadata": {},
     "output_type": "execute_result"
    }
   ],
   "source": [
    "data[\"death_chapter\"].unique() "
   ]
  },
  {
   "cell_type": "code",
   "execution_count": 18,
   "metadata": {},
   "outputs": [
    {
     "name": "stdout",
     "output_type": "stream",
     "text": [
      "<class 'pandas.core.frame.DataFrame'>\n",
      "RangeIndex: 917 entries, 0 to 916\n",
      "Data columns (total 13 columns):\n",
      " #   Column              Non-Null Count  Dtype  \n",
      "---  ------              --------------  -----  \n",
      " 0   name                917 non-null    object \n",
      " 1   allegiances         917 non-null    object \n",
      " 2   death_year          917 non-null    float64\n",
      " 3   book_of_death       917 non-null    float64\n",
      " 4   death_chapter       917 non-null    float64\n",
      " 5   book_intro_chapter  917 non-null    float64\n",
      " 6   gender              917 non-null    int64  \n",
      " 7   nobility            917 non-null    int64  \n",
      " 8   got                 917 non-null    int64  \n",
      " 9   cok                 917 non-null    int64  \n",
      " 10  sos                 917 non-null    int64  \n",
      " 11  ffc                 917 non-null    int64  \n",
      " 12  dwd                 917 non-null    int64  \n",
      "dtypes: float64(4), int64(7), object(2)\n",
      "memory usage: 93.3+ KB\n"
     ]
    }
   ],
   "source": [
    "# 2-1把空值以0替代\n",
    "for i in data:\n",
    "    data[i] = data[i].fillna(0)\n",
    "data.info()"
   ]
  },
  {
   "cell_type": "code",
   "execution_count": 25,
   "metadata": {},
   "outputs": [
    {
     "name": "stderr",
     "output_type": "stream",
     "text": [
      "C:\\Users\\User\\.conda\\envs\\env_name\\lib\\site-packages\\pandas\\core\\indexing.py:671: SettingWithCopyWarning: \n",
      "A value is trying to be set on a copy of a slice from a DataFrame\n",
      "\n",
      "See the caveats in the documentation: https://pandas.pydata.org/pandas-docs/stable/user_guide/indexing.html#returning-a-view-versus-a-copy\n",
      "  self._setitem_with_indexer(indexer, value)\n"
     ]
    },
    {
     "data": {
      "text/plain": [
       "array([0., 1.])"
      ]
     },
     "execution_count": 25,
     "metadata": {},
     "output_type": "execute_result"
    }
   ],
   "source": [
    "#2-2Death Year , Book of Death , Death Chapter三者中取 book_of_death，將有數值的轉成1\n",
    "\n",
    "data[\"book_of_death\"].loc[data[\"book_of_death\"]!=0] =1\n",
    "\n",
    "data[\"book_of_death\"].unique()"
   ]
  },
  {
   "cell_type": "code",
   "execution_count": 26,
   "metadata": {},
   "outputs": [
    {
     "data": {
      "text/html": [
       "<div>\n",
       "<style scoped>\n",
       "    .dataframe tbody tr th:only-of-type {\n",
       "        vertical-align: middle;\n",
       "    }\n",
       "\n",
       "    .dataframe tbody tr th {\n",
       "        vertical-align: top;\n",
       "    }\n",
       "\n",
       "    .dataframe thead th {\n",
       "        text-align: right;\n",
       "    }\n",
       "</style>\n",
       "<table border=\"1\" class=\"dataframe\">\n",
       "  <thead>\n",
       "    <tr style=\"text-align: right;\">\n",
       "      <th></th>\n",
       "      <th>name</th>\n",
       "      <th>allegiances</th>\n",
       "      <th>death_year</th>\n",
       "      <th>book_of_death</th>\n",
       "      <th>death_chapter</th>\n",
       "      <th>book_intro_chapter</th>\n",
       "      <th>gender</th>\n",
       "      <th>nobility</th>\n",
       "      <th>got</th>\n",
       "      <th>cok</th>\n",
       "      <th>sos</th>\n",
       "      <th>ffc</th>\n",
       "      <th>dwd</th>\n",
       "    </tr>\n",
       "  </thead>\n",
       "  <tbody>\n",
       "    <tr>\n",
       "      <th>0</th>\n",
       "      <td>Addam Marbrand</td>\n",
       "      <td>Lannister</td>\n",
       "      <td>0.0</td>\n",
       "      <td>0.0</td>\n",
       "      <td>0.0</td>\n",
       "      <td>56.0</td>\n",
       "      <td>1</td>\n",
       "      <td>1</td>\n",
       "      <td>1</td>\n",
       "      <td>1</td>\n",
       "      <td>1</td>\n",
       "      <td>1</td>\n",
       "      <td>0</td>\n",
       "    </tr>\n",
       "    <tr>\n",
       "      <th>1</th>\n",
       "      <td>Aegon Frey (Jinglebell)</td>\n",
       "      <td>None</td>\n",
       "      <td>299.0</td>\n",
       "      <td>1.0</td>\n",
       "      <td>51.0</td>\n",
       "      <td>49.0</td>\n",
       "      <td>1</td>\n",
       "      <td>1</td>\n",
       "      <td>0</td>\n",
       "      <td>0</td>\n",
       "      <td>1</td>\n",
       "      <td>0</td>\n",
       "      <td>0</td>\n",
       "    </tr>\n",
       "    <tr>\n",
       "      <th>2</th>\n",
       "      <td>Aegon Targaryen</td>\n",
       "      <td>House Targaryen</td>\n",
       "      <td>0.0</td>\n",
       "      <td>0.0</td>\n",
       "      <td>0.0</td>\n",
       "      <td>5.0</td>\n",
       "      <td>1</td>\n",
       "      <td>1</td>\n",
       "      <td>0</td>\n",
       "      <td>0</td>\n",
       "      <td>0</td>\n",
       "      <td>0</td>\n",
       "      <td>1</td>\n",
       "    </tr>\n",
       "    <tr>\n",
       "      <th>3</th>\n",
       "      <td>Adrack Humble</td>\n",
       "      <td>House Greyjoy</td>\n",
       "      <td>300.0</td>\n",
       "      <td>1.0</td>\n",
       "      <td>20.0</td>\n",
       "      <td>20.0</td>\n",
       "      <td>1</td>\n",
       "      <td>1</td>\n",
       "      <td>0</td>\n",
       "      <td>0</td>\n",
       "      <td>0</td>\n",
       "      <td>0</td>\n",
       "      <td>1</td>\n",
       "    </tr>\n",
       "    <tr>\n",
       "      <th>4</th>\n",
       "      <td>Aemon Costayne</td>\n",
       "      <td>Lannister</td>\n",
       "      <td>0.0</td>\n",
       "      <td>0.0</td>\n",
       "      <td>0.0</td>\n",
       "      <td>0.0</td>\n",
       "      <td>1</td>\n",
       "      <td>1</td>\n",
       "      <td>0</td>\n",
       "      <td>0</td>\n",
       "      <td>1</td>\n",
       "      <td>0</td>\n",
       "      <td>0</td>\n",
       "    </tr>\n",
       "  </tbody>\n",
       "</table>\n",
       "</div>"
      ],
      "text/plain": [
       "                      name      allegiances  death_year  book_of_death  \\\n",
       "0           Addam Marbrand        Lannister         0.0            0.0   \n",
       "1  Aegon Frey (Jinglebell)             None       299.0            1.0   \n",
       "2          Aegon Targaryen  House Targaryen         0.0            0.0   \n",
       "3            Adrack Humble    House Greyjoy       300.0            1.0   \n",
       "4           Aemon Costayne        Lannister         0.0            0.0   \n",
       "\n",
       "   death_chapter  book_intro_chapter  gender  nobility  got  cok  sos  ffc  \\\n",
       "0            0.0                56.0       1         1    1    1    1    1   \n",
       "1           51.0                49.0       1         1    0    0    1    0   \n",
       "2            0.0                 5.0       1         1    0    0    0    0   \n",
       "3           20.0                20.0       1         1    0    0    0    0   \n",
       "4            0.0                 0.0       1         1    0    0    1    0   \n",
       "\n",
       "   dwd  \n",
       "0    0  \n",
       "1    0  \n",
       "2    1  \n",
       "3    1  \n",
       "4    0  "
      ]
     },
     "execution_count": 26,
     "metadata": {},
     "output_type": "execute_result"
    }
   ],
   "source": [
    "data.head()"
   ]
  },
  {
   "cell_type": "code",
   "execution_count": 28,
   "metadata": {},
   "outputs": [
    {
     "data": {
      "text/html": [
       "<div>\n",
       "<style scoped>\n",
       "    .dataframe tbody tr th:only-of-type {\n",
       "        vertical-align: middle;\n",
       "    }\n",
       "\n",
       "    .dataframe tbody tr th {\n",
       "        vertical-align: top;\n",
       "    }\n",
       "\n",
       "    .dataframe thead th {\n",
       "        text-align: right;\n",
       "    }\n",
       "</style>\n",
       "<table border=\"1\" class=\"dataframe\">\n",
       "  <thead>\n",
       "    <tr style=\"text-align: right;\">\n",
       "      <th></th>\n",
       "      <th>book_intro_chapter</th>\n",
       "      <th>gender</th>\n",
       "      <th>nobility</th>\n",
       "      <th>got</th>\n",
       "      <th>cok</th>\n",
       "      <th>sos</th>\n",
       "      <th>ffc</th>\n",
       "      <th>dwd</th>\n",
       "      <th>allegiances_Arryn</th>\n",
       "      <th>allegiances_Baratheon</th>\n",
       "      <th>...</th>\n",
       "      <th>allegiances_House Tyrell</th>\n",
       "      <th>allegiances_Lannister</th>\n",
       "      <th>allegiances_Martell</th>\n",
       "      <th>allegiances_Night's Watch</th>\n",
       "      <th>allegiances_None</th>\n",
       "      <th>allegiances_Stark</th>\n",
       "      <th>allegiances_Targaryen</th>\n",
       "      <th>allegiances_Tully</th>\n",
       "      <th>allegiances_Tyrell</th>\n",
       "      <th>allegiances_Wildling</th>\n",
       "    </tr>\n",
       "  </thead>\n",
       "  <tbody>\n",
       "    <tr>\n",
       "      <th>0</th>\n",
       "      <td>56.0</td>\n",
       "      <td>1</td>\n",
       "      <td>1</td>\n",
       "      <td>1</td>\n",
       "      <td>1</td>\n",
       "      <td>1</td>\n",
       "      <td>1</td>\n",
       "      <td>0</td>\n",
       "      <td>0</td>\n",
       "      <td>0</td>\n",
       "      <td>...</td>\n",
       "      <td>0</td>\n",
       "      <td>1</td>\n",
       "      <td>0</td>\n",
       "      <td>0</td>\n",
       "      <td>0</td>\n",
       "      <td>0</td>\n",
       "      <td>0</td>\n",
       "      <td>0</td>\n",
       "      <td>0</td>\n",
       "      <td>0</td>\n",
       "    </tr>\n",
       "    <tr>\n",
       "      <th>1</th>\n",
       "      <td>49.0</td>\n",
       "      <td>1</td>\n",
       "      <td>1</td>\n",
       "      <td>0</td>\n",
       "      <td>0</td>\n",
       "      <td>1</td>\n",
       "      <td>0</td>\n",
       "      <td>0</td>\n",
       "      <td>0</td>\n",
       "      <td>0</td>\n",
       "      <td>...</td>\n",
       "      <td>0</td>\n",
       "      <td>0</td>\n",
       "      <td>0</td>\n",
       "      <td>0</td>\n",
       "      <td>1</td>\n",
       "      <td>0</td>\n",
       "      <td>0</td>\n",
       "      <td>0</td>\n",
       "      <td>0</td>\n",
       "      <td>0</td>\n",
       "    </tr>\n",
       "    <tr>\n",
       "      <th>2</th>\n",
       "      <td>5.0</td>\n",
       "      <td>1</td>\n",
       "      <td>1</td>\n",
       "      <td>0</td>\n",
       "      <td>0</td>\n",
       "      <td>0</td>\n",
       "      <td>0</td>\n",
       "      <td>1</td>\n",
       "      <td>0</td>\n",
       "      <td>0</td>\n",
       "      <td>...</td>\n",
       "      <td>0</td>\n",
       "      <td>0</td>\n",
       "      <td>0</td>\n",
       "      <td>0</td>\n",
       "      <td>0</td>\n",
       "      <td>0</td>\n",
       "      <td>0</td>\n",
       "      <td>0</td>\n",
       "      <td>0</td>\n",
       "      <td>0</td>\n",
       "    </tr>\n",
       "    <tr>\n",
       "      <th>3</th>\n",
       "      <td>20.0</td>\n",
       "      <td>1</td>\n",
       "      <td>1</td>\n",
       "      <td>0</td>\n",
       "      <td>0</td>\n",
       "      <td>0</td>\n",
       "      <td>0</td>\n",
       "      <td>1</td>\n",
       "      <td>0</td>\n",
       "      <td>0</td>\n",
       "      <td>...</td>\n",
       "      <td>0</td>\n",
       "      <td>0</td>\n",
       "      <td>0</td>\n",
       "      <td>0</td>\n",
       "      <td>0</td>\n",
       "      <td>0</td>\n",
       "      <td>0</td>\n",
       "      <td>0</td>\n",
       "      <td>0</td>\n",
       "      <td>0</td>\n",
       "    </tr>\n",
       "    <tr>\n",
       "      <th>4</th>\n",
       "      <td>0.0</td>\n",
       "      <td>1</td>\n",
       "      <td>1</td>\n",
       "      <td>0</td>\n",
       "      <td>0</td>\n",
       "      <td>1</td>\n",
       "      <td>0</td>\n",
       "      <td>0</td>\n",
       "      <td>0</td>\n",
       "      <td>0</td>\n",
       "      <td>...</td>\n",
       "      <td>0</td>\n",
       "      <td>1</td>\n",
       "      <td>0</td>\n",
       "      <td>0</td>\n",
       "      <td>0</td>\n",
       "      <td>0</td>\n",
       "      <td>0</td>\n",
       "      <td>0</td>\n",
       "      <td>0</td>\n",
       "      <td>0</td>\n",
       "    </tr>\n",
       "  </tbody>\n",
       "</table>\n",
       "<p>5 rows × 29 columns</p>\n",
       "</div>"
      ],
      "text/plain": [
       "   book_intro_chapter  gender  nobility  got  cok  sos  ffc  dwd  \\\n",
       "0                56.0       1         1    1    1    1    1    0   \n",
       "1                49.0       1         1    0    0    1    0    0   \n",
       "2                 5.0       1         1    0    0    0    0    1   \n",
       "3                20.0       1         1    0    0    0    0    1   \n",
       "4                 0.0       1         1    0    0    1    0    0   \n",
       "\n",
       "   allegiances_Arryn  allegiances_Baratheon  ...  allegiances_House Tyrell  \\\n",
       "0                  0                      0  ...                         0   \n",
       "1                  0                      0  ...                         0   \n",
       "2                  0                      0  ...                         0   \n",
       "3                  0                      0  ...                         0   \n",
       "4                  0                      0  ...                         0   \n",
       "\n",
       "   allegiances_Lannister  allegiances_Martell  allegiances_Night's Watch  \\\n",
       "0                      1                    0                          0   \n",
       "1                      0                    0                          0   \n",
       "2                      0                    0                          0   \n",
       "3                      0                    0                          0   \n",
       "4                      1                    0                          0   \n",
       "\n",
       "   allegiances_None  allegiances_Stark  allegiances_Targaryen  \\\n",
       "0                 0                  0                      0   \n",
       "1                 1                  0                      0   \n",
       "2                 0                  0                      0   \n",
       "3                 0                  0                      0   \n",
       "4                 0                  0                      0   \n",
       "\n",
       "   allegiances_Tully  allegiances_Tyrell  allegiances_Wildling  \n",
       "0                  0                   0                     0  \n",
       "1                  0                   0                     0  \n",
       "2                  0                   0                     0  \n",
       "3                  0                   0                     0  \n",
       "4                  0                   0                     0  \n",
       "\n",
       "[5 rows x 29 columns]"
      ]
     },
     "execution_count": 28,
     "metadata": {},
     "output_type": "execute_result"
    }
   ],
   "source": [
    "# 2-3將Allegiances轉成dummy特徵(底下有幾種分類就會變成幾個特徵，值是0或1，本來的資料集就會再增加約20種特徵)\n",
    "# \"allegiances\" 提出後 Dummy:Series.str.get_dummies(*args, **kwargs)\n",
    "data_dummy = data.copy()\n",
    "X1 = data_dummy.iloc[:,5:]\n",
    "X2 = data_dummy[\"allegiances\"]\n",
    "\n",
    "dummies = pd.get_dummies(X2, prefix=\"allegiances\" ) \n",
    "data_get_dummy = pd.concat( [X1, dummies], axis = 1 )\n",
    "data_get_dummy.head()"
   ]
  },
  {
   "cell_type": "code",
   "execution_count": 29,
   "metadata": {},
   "outputs": [
    {
     "name": "stdout",
     "output_type": "stream",
     "text": [
      "<class 'pandas.core.frame.DataFrame'>\n",
      "RangeIndex: 917 entries, 0 to 916\n",
      "Data columns (total 29 columns):\n",
      " #   Column                       Non-Null Count  Dtype  \n",
      "---  ------                       --------------  -----  \n",
      " 0   book_intro_chapter           917 non-null    float64\n",
      " 1   gender                       917 non-null    int64  \n",
      " 2   nobility                     917 non-null    int64  \n",
      " 3   got                          917 non-null    int64  \n",
      " 4   cok                          917 non-null    int64  \n",
      " 5   sos                          917 non-null    int64  \n",
      " 6   ffc                          917 non-null    int64  \n",
      " 7   dwd                          917 non-null    int64  \n",
      " 8   allegiances_Arryn            917 non-null    uint8  \n",
      " 9   allegiances_Baratheon        917 non-null    uint8  \n",
      " 10  allegiances_Greyjoy          917 non-null    uint8  \n",
      " 11  allegiances_House Arryn      917 non-null    uint8  \n",
      " 12  allegiances_House Baratheon  917 non-null    uint8  \n",
      " 13  allegiances_House Greyjoy    917 non-null    uint8  \n",
      " 14  allegiances_House Lannister  917 non-null    uint8  \n",
      " 15  allegiances_House Martell    917 non-null    uint8  \n",
      " 16  allegiances_House Stark      917 non-null    uint8  \n",
      " 17  allegiances_House Targaryen  917 non-null    uint8  \n",
      " 18  allegiances_House Tully      917 non-null    uint8  \n",
      " 19  allegiances_House Tyrell     917 non-null    uint8  \n",
      " 20  allegiances_Lannister        917 non-null    uint8  \n",
      " 21  allegiances_Martell          917 non-null    uint8  \n",
      " 22  allegiances_Night's Watch    917 non-null    uint8  \n",
      " 23  allegiances_None             917 non-null    uint8  \n",
      " 24  allegiances_Stark            917 non-null    uint8  \n",
      " 25  allegiances_Targaryen        917 non-null    uint8  \n",
      " 26  allegiances_Tully            917 non-null    uint8  \n",
      " 27  allegiances_Tyrell           917 non-null    uint8  \n",
      " 28  allegiances_Wildling         917 non-null    uint8  \n",
      "dtypes: float64(1), int64(7), uint8(21)\n",
      "memory usage: 76.2 KB\n"
     ]
    }
   ],
   "source": [
    "data_get_dummy.info()"
   ]
  },
  {
   "cell_type": "code",
   "execution_count": 39,
   "metadata": {},
   "outputs": [
    {
     "name": "stdout",
     "output_type": "stream",
     "text": [
      "<class 'pandas.core.frame.DataFrame'>\n",
      "Int64Index: 687 entries, 155 to 102\n",
      "Data columns (total 29 columns):\n",
      " #   Column                       Non-Null Count  Dtype  \n",
      "---  ------                       --------------  -----  \n",
      " 0   book_intro_chapter           687 non-null    float64\n",
      " 1   gender                       687 non-null    int64  \n",
      " 2   nobility                     687 non-null    int64  \n",
      " 3   got                          687 non-null    int64  \n",
      " 4   cok                          687 non-null    int64  \n",
      " 5   sos                          687 non-null    int64  \n",
      " 6   ffc                          687 non-null    int64  \n",
      " 7   dwd                          687 non-null    int64  \n",
      " 8   allegiances_Arryn            687 non-null    uint8  \n",
      " 9   allegiances_Baratheon        687 non-null    uint8  \n",
      " 10  allegiances_Greyjoy          687 non-null    uint8  \n",
      " 11  allegiances_House Arryn      687 non-null    uint8  \n",
      " 12  allegiances_House Baratheon  687 non-null    uint8  \n",
      " 13  allegiances_House Greyjoy    687 non-null    uint8  \n",
      " 14  allegiances_House Lannister  687 non-null    uint8  \n",
      " 15  allegiances_House Martell    687 non-null    uint8  \n",
      " 16  allegiances_House Stark      687 non-null    uint8  \n",
      " 17  allegiances_House Targaryen  687 non-null    uint8  \n",
      " 18  allegiances_House Tully      687 non-null    uint8  \n",
      " 19  allegiances_House Tyrell     687 non-null    uint8  \n",
      " 20  allegiances_Lannister        687 non-null    uint8  \n",
      " 21  allegiances_Martell          687 non-null    uint8  \n",
      " 22  allegiances_Night's Watch    687 non-null    uint8  \n",
      " 23  allegiances_None             687 non-null    uint8  \n",
      " 24  allegiances_Stark            687 non-null    uint8  \n",
      " 25  allegiances_Targaryen        687 non-null    uint8  \n",
      " 26  allegiances_Tully            687 non-null    uint8  \n",
      " 27  allegiances_Tyrell           687 non-null    uint8  \n",
      " 28  allegiances_Wildling         687 non-null    uint8  \n",
      "dtypes: float64(1), int64(7), uint8(21)\n",
      "memory usage: 62.4 KB\n",
      "----------------------------------------\n",
      "<class 'pandas.core.frame.DataFrame'>\n",
      "Int64Index: 230 entries, 668 to 891\n",
      "Data columns (total 29 columns):\n",
      " #   Column                       Non-Null Count  Dtype  \n",
      "---  ------                       --------------  -----  \n",
      " 0   book_intro_chapter           230 non-null    float64\n",
      " 1   gender                       230 non-null    int64  \n",
      " 2   nobility                     230 non-null    int64  \n",
      " 3   got                          230 non-null    int64  \n",
      " 4   cok                          230 non-null    int64  \n",
      " 5   sos                          230 non-null    int64  \n",
      " 6   ffc                          230 non-null    int64  \n",
      " 7   dwd                          230 non-null    int64  \n",
      " 8   allegiances_Arryn            230 non-null    uint8  \n",
      " 9   allegiances_Baratheon        230 non-null    uint8  \n",
      " 10  allegiances_Greyjoy          230 non-null    uint8  \n",
      " 11  allegiances_House Arryn      230 non-null    uint8  \n",
      " 12  allegiances_House Baratheon  230 non-null    uint8  \n",
      " 13  allegiances_House Greyjoy    230 non-null    uint8  \n",
      " 14  allegiances_House Lannister  230 non-null    uint8  \n",
      " 15  allegiances_House Martell    230 non-null    uint8  \n",
      " 16  allegiances_House Stark      230 non-null    uint8  \n",
      " 17  allegiances_House Targaryen  230 non-null    uint8  \n",
      " 18  allegiances_House Tully      230 non-null    uint8  \n",
      " 19  allegiances_House Tyrell     230 non-null    uint8  \n",
      " 20  allegiances_Lannister        230 non-null    uint8  \n",
      " 21  allegiances_Martell          230 non-null    uint8  \n",
      " 22  allegiances_Night's Watch    230 non-null    uint8  \n",
      " 23  allegiances_None             230 non-null    uint8  \n",
      " 24  allegiances_Stark            230 non-null    uint8  \n",
      " 25  allegiances_Targaryen        230 non-null    uint8  \n",
      " 26  allegiances_Tully            230 non-null    uint8  \n",
      " 27  allegiances_Tyrell           230 non-null    uint8  \n",
      " 28  allegiances_Wildling         230 non-null    uint8  \n",
      "dtypes: float64(1), int64(7), uint8(21)\n",
      "memory usage: 20.9 KB\n",
      "----------------------------------------\n",
      "0.0    442\n",
      "1.0    245\n",
      "Name: book_of_death, dtype: int64\n",
      "----------------------------------------\n"
     ]
    },
    {
     "data": {
      "text/plain": [
       "0.0    168\n",
       "1.0     62\n",
       "Name: book_of_death, dtype: int64"
      ]
     },
     "execution_count": 39,
     "metadata": {},
     "output_type": "execute_result"
    }
   ],
   "source": [
    "# 2-4亂數拆成訓練集(75%)與測試集(25%)\n",
    "\n",
    "X = data_get_dummy\n",
    "y = data_dummy['book_of_death']\n",
    "#載入訓練組及測試組分組套件\n",
    "from sklearn.model_selection import train_test_split\n",
    "#設定隨機種子為42，測試集比例佔25%\n",
    "X_train, X_test, y_train, y_test = train_test_split(X,y, test_size=0.25,random_state=42)\n",
    "\n",
    "#叫出train和test資料預覽\n",
    "X_train.info()\n",
    "print(\"-\" * 40)\n",
    "X_test.info()\n",
    "print(\"-\" * 40)\n",
    "print(y_train.value_counts())\n",
    "print(\"-\" * 40)\n",
    "y_test.value_counts()\n"
   ]
  },
  {
   "cell_type": "code",
   "execution_count": 78,
   "metadata": {},
   "outputs": [],
   "source": [
    "\"\"\"\n",
    "3)使用scikit-learn的DecisionTreeClassifier進行預測(可以先試著將網頁範例(iris)跑出來再使用這次作業的資料集)\n",
    "\n",
    "\"\"\"\n",
    "from sklearn import tree\n",
    "\n",
    "X=X_train\n",
    "y=y_train\n",
    "clf = tree.DecisionTreeClassifier(max_depth=3)\n",
    "clf = clf.fit(X,y)\n",
    "\n",
    "# for name,score in zip(data.columns, clf.feature_importances_):\n",
    "#     print(name, score)\n",
    "Y_prediction = clf.predict(X_test)"
   ]
  },
  {
   "cell_type": "code",
   "execution_count": 59,
   "metadata": {},
   "outputs": [
    {
     "data": {
      "text/plain": [
       "array([1., 0., 1., 1., 1., 1., 1., 0., 1., 0., 0., 0., 1., 0., 1., 0., 1.,\n",
       "       1., 0., 0., 0., 0., 1., 0., 0., 1., 1., 0., 0., 0., 1., 0., 0., 0.,\n",
       "       0., 0., 1., 0., 1., 0., 1., 0., 0., 0., 1., 0., 0., 0., 0., 0., 1.,\n",
       "       0., 1., 0., 0., 1., 1., 0., 1., 0., 0., 0., 0., 1., 1., 0., 1., 0.,\n",
       "       0., 0., 1., 1., 0., 0., 0., 0., 0., 0., 1., 0., 0., 0., 0., 0., 0.,\n",
       "       0., 1., 1., 0., 0., 0., 0., 0., 0., 1., 0., 0., 0., 0., 0., 0., 1.,\n",
       "       0., 1., 0., 0., 1., 0., 1., 1., 0., 0., 0., 0., 1., 1., 0., 0., 0.,\n",
       "       0., 0., 0., 0., 1., 0., 0., 0., 1., 1., 0., 0., 1., 0., 0., 1., 0.,\n",
       "       1., 1., 0., 0., 1., 0., 0., 0., 0., 0., 1., 0., 1., 0., 1., 1., 0.,\n",
       "       1., 1., 1., 0., 0., 0., 0., 0., 0., 0., 0., 0., 0., 1., 1., 0., 1.,\n",
       "       1., 0., 1., 1., 0., 1., 0., 0., 1., 1., 0., 0., 1., 0., 0., 0., 1.,\n",
       "       1., 0., 0., 0., 0., 0., 0., 1., 0., 0., 0., 0., 0., 0., 1., 0., 0.,\n",
       "       0., 0., 1., 1., 0., 1., 1., 0., 1., 0., 1., 0., 0., 0., 0., 0., 1.,\n",
       "       0., 0., 0., 1., 1., 1., 0., 0., 0.])"
      ]
     },
     "execution_count": 59,
     "metadata": {},
     "output_type": "execute_result"
    }
   ],
   "source": [
    "Y_prediction = clf.predict(X_test)\n",
    "Y_prediction"
   ]
  },
  {
   "cell_type": "code",
   "execution_count": 66,
   "metadata": {},
   "outputs": [
    {
     "data": {
      "text/plain": [
       "array([[129,  39],\n",
       "       [ 22,  40]], dtype=int64)"
      ]
     },
     "execution_count": 66,
     "metadata": {},
     "output_type": "execute_result"
    }
   ],
   "source": [
    "\"\"\"\n",
    "4)做出Confusion Matrix，並計算Precision, Recall, Accuracy (提示: 可使用sklearn.metrics)\n",
    "\"\"\"\n",
    "from sklearn.metrics import confusion_matrix\n",
    "from sklearn.metrics import plot_confusion_matrix\n",
    "\n",
    "confusion_matrix(y_test,Y_prediction)"
   ]
  },
  {
   "cell_type": "code",
   "execution_count": 67,
   "metadata": {},
   "outputs": [
    {
     "data": {
      "image/png": "[encoded data removed]",
      "text/plain": [
       "<Figure size 432x288 with 2 Axes>"
      ]
     },
     "metadata": {},
     "output_type": "display_data"
    }
   ],
   "source": [
    "# 叫出圖式化confusion_matrix，確認 TP、TN、FN、FP\n",
    "plot_confusion_matrix(clf, X_test, y_test)  \n",
    "plt.show()  "
   ]
  },
  {
   "cell_type": "code",
   "execution_count": 68,
   "metadata": {},
   "outputs": [
    {
     "name": "stdout",
     "output_type": "stream",
     "text": [
      "Precision= 0.5063291139240507\n",
      "Recall= 0.6451612903225806\n",
      "Accuracy= 0.7347826086956522\n"
     ]
    }
   ],
   "source": [
    "# 計算Precision, Recall, Accuracy\n",
    "# I.手動計算\n",
    "Precision = 40/(39+40)\n",
    "Recall = 40/(22+40)\n",
    "Accuracy = (129+40)/(129+39+22+40)\n",
    "print(\"Precision=\",Precision)\n",
    "print(\"Recall=\",Recall)\n",
    "print(\"Accuracy=\",Accuracy)"
   ]
  },
  {
   "cell_type": "code",
   "execution_count": 63,
   "metadata": {},
   "outputs": [
    {
     "name": "stdout",
     "output_type": "stream",
     "text": [
      "precision= 0.5063291139240507\n",
      "recall= 0.6451612903225806\n",
      "accuracy= 0.7347826086956522\n"
     ]
    }
   ],
   "source": [
    "# 計算Precision, Recall, Accuracy\n",
    "# II. 函式計算\n",
    "from sklearn.metrics import precision_score, recall_score, accuracy_score\n",
    "\n",
    "precision = precision_score(y_test,Y_prediction)\n",
    "recall = recall_score(y_test,Y_prediction)\n",
    "accuracy = accuracy_score(y_test,Y_prediction)\n",
    "print(\"precision=\",precision)\n",
    "print(\"recall=\",recall)\n",
    "print(\"accuracy=\",accuracy)"
   ]
  },
  {
   "cell_type": "code",
   "execution_count": null,
   "metadata": {},
   "outputs": [],
   "source": []
  },
  {
   "cell_type": "code",
   "execution_count": 69,
   "metadata": {},
   "outputs": [
    {
     "data": {
      "text/plain": [
       "[Text(167.4, 190.26, 'X[6] <= 0.5\\ngini = 0.459\\nsamples = 687\\nvalue = [442, 245]'),\n",
       " Text(83.7, 135.9, 'X[7] <= 0.5\\ngini = 0.49\\nsamples = 505\\nvalue = [288, 217]'),\n",
       " Text(41.85, 81.53999999999999, 'X[23] <= 0.5\\ngini = 0.5\\nsamples = 347\\nvalue = [170, 177]'),\n",
       " Text(20.925, 27.180000000000007, 'gini = 0.492\\nsamples = 249\\nvalue = [109, 140]'),\n",
       " Text(62.775000000000006, 27.180000000000007, 'gini = 0.47\\nsamples = 98\\nvalue = [61, 37]'),\n",
       " Text(125.55000000000001, 81.53999999999999, 'X[28] <= 0.5\\ngini = 0.378\\nsamples = 158\\nvalue = [118, 40]'),\n",
       " Text(104.625, 27.180000000000007, 'gini = 0.34\\nsamples = 143\\nvalue = [112, 31]'),\n",
       " Text(146.475, 27.180000000000007, 'gini = 0.48\\nsamples = 15\\nvalue = [6, 9]'),\n",
       " Text(251.10000000000002, 135.9, 'X[14] <= 0.5\\ngini = 0.26\\nsamples = 182\\nvalue = [154, 28]'),\n",
       " Text(209.25, 81.53999999999999, 'X[22] <= 0.5\\ngini = 0.236\\nsamples = 176\\nvalue = [152, 24]'),\n",
       " Text(188.32500000000002, 27.180000000000007, 'gini = 0.212\\nsamples = 166\\nvalue = [146, 20]'),\n",
       " Text(230.175, 27.180000000000007, 'gini = 0.48\\nsamples = 10\\nvalue = [6, 4]'),\n",
       " Text(292.95, 81.53999999999999, 'X[0] <= 16.0\\ngini = 0.444\\nsamples = 6\\nvalue = [2, 4]'),\n",
       " Text(272.02500000000003, 27.180000000000007, 'gini = 0.444\\nsamples = 3\\nvalue = [2, 1]'),\n",
       " Text(313.875, 27.180000000000007, 'gini = 0.0\\nsamples = 3\\nvalue = [0, 3]')]"
      ]
     },
     "execution_count": 69,
     "metadata": {},
     "output_type": "execute_result"
    },
    {
     "data": {
      "image/png": "[encoded data removed]",
      "text/plain": [
       "<Figure size 432x288 with 1 Axes>"
      ]
     },
     "metadata": {},
     "output_type": "display_data"
    }
   ],
   "source": [
    "\"\"\"\n",
    "5)產出決策樹的圖\n",
    "\"\"\"\n",
    "tree.plot_tree(clf)"
   ]
  },
  {
   "cell_type": "code",
   "execution_count": 75,
   "metadata": {},
   "outputs": [
    {
     "data": {
      "text/plain": [
       "'clf.pdf'"
      ]
     },
     "execution_count": 75,
     "metadata": {},
     "output_type": "execute_result"
    }
   ],
   "source": [
    "import graphviz \n",
    "dot_data = tree.export_graphviz(clf, out_file=None) \n",
    "graph = graphviz.Source(dot_data) \n",
    "graph.render(\"clf\") "
   ]
  },
  {
   "cell_type": "code",
   "execution_count": null,
   "metadata": {},
   "outputs": [],
   "source": []
  }
 ],
 "metadata": {
  "kernelspec": {
   "display_name": "py37",
   "language": "python",
   "name": "env_name"
  },
  "language_info": {
   "codemirror_mode": {
    "name": "ipython",
    "version": 3
   },
   "file_extension": ".py",
   "mimetype": "text/x-python",
   "name": "python",
   "nbconvert_exporter": "python",
   "pygments_lexer": "ipython3",
   "version": "3.7.7"
  }
 },
 "nbformat": 4,
 "nbformat_minor": 4
}
