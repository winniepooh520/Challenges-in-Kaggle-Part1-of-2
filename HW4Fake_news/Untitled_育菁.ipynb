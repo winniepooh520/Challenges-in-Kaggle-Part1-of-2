{
 "cells": [
  {
   "cell_type": "code",
   "execution_count": 5,
   "metadata": {
    "colab": {
     "base_uri": "https://localhost:8080/"
    },
    "id": "C8mTJFG95kMi",
    "outputId": "b299a5b8-78c7-4c89-a964-b7656a30f7a3"
   },
   "outputs": [
    {
     "data": {
      "text/plain": [
       "0       1\n",
       "1       1\n",
       "2       0\n",
       "3       0\n",
       "4       0\n",
       "       ..\n",
       "1242    0\n",
       "1243    0\n",
       "1244    1\n",
       "1245    1\n",
       "1246    1\n",
       "Name: label, Length: 1247, dtype: int64"
      ]
     },
     "execution_count": 5,
     "metadata": {},
     "output_type": "execute_result"
    }
   ],
   "source": [
    "import pandas as pd\n",
    "import numpy as np\n",
    "\n",
    "train = pd.read_csv(\"train.csv\", sep='\\t', encoding='utf-8')\n",
    "test = pd.read_csv(\"test.csv\", sep='\\t', encoding='utf-8')\n",
    "test_label = pd.read_csv(\"sample_submission.csv\", sep=',', encoding='utf-8')\n",
    "train.head()\n",
    "test_label['label']\n",
    "\n",
    "# type(train) : pandas.core.frame.DataFrame\n",
    "# train.columns : Index(['text', 'label'], dtype='object')\n",
    "# print( len(train['text'])): 4987\n",
    "# print(len(test['text'])): 1247"
   ]
  },
  {
   "cell_type": "code",
   "execution_count": 6,
   "metadata": {
    "colab": {
     "base_uri": "https://localhost:8080/",
     "height": 415
    },
    "id": "gdHk657f5kMj",
    "outputId": "2fa7471f-4030-4526-af9e-284e03443cb8"
   },
   "outputs": [
    {
     "data": {
      "text/html": [
       "<div>\n",
       "<style scoped>\n",
       "    .dataframe tbody tr th:only-of-type {\n",
       "        vertical-align: middle;\n",
       "    }\n",
       "\n",
       "    .dataframe tbody tr th {\n",
       "        vertical-align: top;\n",
       "    }\n",
       "\n",
       "    .dataframe thead th {\n",
       "        text-align: right;\n",
       "    }\n",
       "</style>\n",
       "<table border=\"1\" class=\"dataframe\">\n",
       "  <thead>\n",
       "    <tr style=\"text-align: right;\">\n",
       "      <th></th>\n",
       "      <th>id</th>\n",
       "      <th>text</th>\n",
       "      <th>label</th>\n",
       "    </tr>\n",
       "  </thead>\n",
       "  <tbody>\n",
       "    <tr>\n",
       "      <th>0</th>\n",
       "      <td>2</td>\n",
       "      <td>The 2017 Teen Choice Awards ceremony was held ...</td>\n",
       "      <td>1</td>\n",
       "    </tr>\n",
       "    <tr>\n",
       "      <th>1</th>\n",
       "      <td>3</td>\n",
       "      <td>The concert, part of “The Joshua Tree Tour,” w...</td>\n",
       "      <td>1</td>\n",
       "    </tr>\n",
       "    <tr>\n",
       "      <th>2</th>\n",
       "      <td>4</td>\n",
       "      <td>Selena Gomez refuses to talk to her mother abo...</td>\n",
       "      <td>0</td>\n",
       "    </tr>\n",
       "    <tr>\n",
       "      <th>3</th>\n",
       "      <td>5</td>\n",
       "      <td>This is worse than a lump of coal in your stoc...</td>\n",
       "      <td>0</td>\n",
       "    </tr>\n",
       "    <tr>\n",
       "      <th>4</th>\n",
       "      <td>6</td>\n",
       "      <td>Luann De Lesseps is going to rehab after her a...</td>\n",
       "      <td>0</td>\n",
       "    </tr>\n",
       "    <tr>\n",
       "      <th>...</th>\n",
       "      <td>...</td>\n",
       "      <td>...</td>\n",
       "      <td>...</td>\n",
       "    </tr>\n",
       "    <tr>\n",
       "      <th>1242</th>\n",
       "      <td>1244</td>\n",
       "      <td>Get the latest from TODAY Sign up for our news...</td>\n",
       "      <td>0</td>\n",
       "    </tr>\n",
       "    <tr>\n",
       "      <th>1243</th>\n",
       "      <td>1245</td>\n",
       "      <td>Jaden Smith claims that the Four Seasons Hotel...</td>\n",
       "      <td>0</td>\n",
       "    </tr>\n",
       "    <tr>\n",
       "      <th>1244</th>\n",
       "      <td>1246</td>\n",
       "      <td>Overview (3)  Mini Bio (1)  Faith Hill was bor...</td>\n",
       "      <td>1</td>\n",
       "    </tr>\n",
       "    <tr>\n",
       "      <th>1245</th>\n",
       "      <td>1247</td>\n",
       "      <td>CLOSE Aaron Paul dishes on 'The Path'  Aaron P...</td>\n",
       "      <td>1</td>\n",
       "    </tr>\n",
       "    <tr>\n",
       "      <th>1246</th>\n",
       "      <td>1248</td>\n",
       "      <td>Meghan Edmonds was showered with love at her b...</td>\n",
       "      <td>1</td>\n",
       "    </tr>\n",
       "  </tbody>\n",
       "</table>\n",
       "<p>1247 rows × 3 columns</p>\n",
       "</div>"
      ],
      "text/plain": [
       "        id                                               text  label\n",
       "0        2  The 2017 Teen Choice Awards ceremony was held ...      1\n",
       "1        3  The concert, part of “The Joshua Tree Tour,” w...      1\n",
       "2        4  Selena Gomez refuses to talk to her mother abo...      0\n",
       "3        5  This is worse than a lump of coal in your stoc...      0\n",
       "4        6  Luann De Lesseps is going to rehab after her a...      0\n",
       "...    ...                                                ...    ...\n",
       "1242  1244  Get the latest from TODAY Sign up for our news...      0\n",
       "1243  1245  Jaden Smith claims that the Four Seasons Hotel...      0\n",
       "1244  1246  Overview (3)  Mini Bio (1)  Faith Hill was bor...      1\n",
       "1245  1247  CLOSE Aaron Paul dishes on 'The Path'  Aaron P...      1\n",
       "1246  1248  Meghan Edmonds was showered with love at her b...      1\n",
       "\n",
       "[1247 rows x 3 columns]"
      ]
     },
     "execution_count": 6,
     "metadata": {},
     "output_type": "execute_result"
    }
   ],
   "source": [
    "# 把 sample_submission.csv 中的 id 與 label切開，再塞入 test\n",
    "\n",
    "    \n",
    "test[\"label\"]=test_label['label']\n",
    "\n",
    "test"
   ]
  },
  {
   "cell_type": "code",
   "execution_count": 7,
   "metadata": {
    "id": "xDHiSpp35kMk"
   },
   "outputs": [],
   "source": [
    "# train[\"label\"].value_counts()\n",
    "# 0        2972\n",
    "# 1        2014\n",
    "# label       1\n",
    "# Name: label, dtype: int64\n",
    "# 有個 label夾在0.1裡面，抓出來刪掉row\n",
    "\n",
    "# a=0\n",
    "# for i in train[\"label\"]:\n",
    "#     if i!=\"label\":\n",
    "#         a+=1\n",
    "#     if i==\"label\":\n",
    "#         break\n",
    "# a=1615\n",
    "train = train.drop([1615])"
   ]
  },
  {
   "cell_type": "code",
   "execution_count": 8,
   "metadata": {
    "colab": {
     "base_uri": "https://localhost:8080/",
     "height": 415
    },
    "id": "CNNsgdYOJFBk",
    "outputId": "f05ee6cd-54b3-4be2-be71-a7ecda6f8729"
   },
   "outputs": [
    {
     "data": {
      "text/html": [
       "<div>\n",
       "<style scoped>\n",
       "    .dataframe tbody tr th:only-of-type {\n",
       "        vertical-align: middle;\n",
       "    }\n",
       "\n",
       "    .dataframe tbody tr th {\n",
       "        vertical-align: top;\n",
       "    }\n",
       "\n",
       "    .dataframe thead th {\n",
       "        text-align: right;\n",
       "    }\n",
       "</style>\n",
       "<table border=\"1\" class=\"dataframe\">\n",
       "  <thead>\n",
       "    <tr style=\"text-align: right;\">\n",
       "      <th></th>\n",
       "      <th>text</th>\n",
       "      <th>label</th>\n",
       "    </tr>\n",
       "  </thead>\n",
       "  <tbody>\n",
       "    <tr>\n",
       "      <th>1614</th>\n",
       "      <td>Justin Bieber has had his fair share of accide...</td>\n",
       "      <td>1</td>\n",
       "    </tr>\n",
       "    <tr>\n",
       "      <th>1616</th>\n",
       "      <td>Mel B has filed for divorce from her husband o...</td>\n",
       "      <td>0</td>\n",
       "    </tr>\n",
       "    <tr>\n",
       "      <th>1617</th>\n",
       "      <td>Recognizing The Potential And Perils Of A 'Lim...</td>\n",
       "      <td>1</td>\n",
       "    </tr>\n",
       "    <tr>\n",
       "      <th>1618</th>\n",
       "      <td>How much did you spend on your actual home? We...</td>\n",
       "      <td>1</td>\n",
       "    </tr>\n",
       "    <tr>\n",
       "      <th>1619</th>\n",
       "      <td>She's got a name!  After Kim Kardashian and Ka...</td>\n",
       "      <td>1</td>\n",
       "    </tr>\n",
       "    <tr>\n",
       "      <th>...</th>\n",
       "      <td>...</td>\n",
       "      <td>...</td>\n",
       "    </tr>\n",
       "    <tr>\n",
       "      <th>4982</th>\n",
       "      <td>The storybook romance of WWE stars John Cena a...</td>\n",
       "      <td>0</td>\n",
       "    </tr>\n",
       "    <tr>\n",
       "      <th>4983</th>\n",
       "      <td>The actor told friends he’s responsible for en...</td>\n",
       "      <td>0</td>\n",
       "    </tr>\n",
       "    <tr>\n",
       "      <th>4984</th>\n",
       "      <td>Sarah Hyland is getting real.  The Modern Fami...</td>\n",
       "      <td>0</td>\n",
       "    </tr>\n",
       "    <tr>\n",
       "      <th>4985</th>\n",
       "      <td>Production has been suspended on the sixth and...</td>\n",
       "      <td>0</td>\n",
       "    </tr>\n",
       "    <tr>\n",
       "      <th>4986</th>\n",
       "      <td>A jury ruled against Bill Cosby in his sexual ...</td>\n",
       "      <td>0</td>\n",
       "    </tr>\n",
       "  </tbody>\n",
       "</table>\n",
       "<p>3372 rows × 2 columns</p>\n",
       "</div>"
      ],
      "text/plain": [
       "                                                   text label\n",
       "1614  Justin Bieber has had his fair share of accide...     1\n",
       "1616  Mel B has filed for divorce from her husband o...     0\n",
       "1617  Recognizing The Potential And Perils Of A 'Lim...     1\n",
       "1618  How much did you spend on your actual home? We...     1\n",
       "1619  She's got a name!  After Kim Kardashian and Ka...     1\n",
       "...                                                 ...   ...\n",
       "4982  The storybook romance of WWE stars John Cena a...     0\n",
       "4983  The actor told friends he’s responsible for en...     0\n",
       "4984  Sarah Hyland is getting real.  The Modern Fami...     0\n",
       "4985  Production has been suspended on the sixth and...     0\n",
       "4986  A jury ruled against Bill Cosby in his sexual ...     0\n",
       "\n",
       "[3372 rows x 2 columns]"
      ]
     },
     "execution_count": 8,
     "metadata": {},
     "output_type": "execute_result"
    }
   ],
   "source": [
    "train[1614:]"
   ]
  },
  {
   "cell_type": "code",
   "execution_count": 9,
   "metadata": {
    "id": "0gtBRH7_5kMk",
    "outputId": "cfb4b0dc-cd95-4561-f628-ff1d420490d6"
   },
   "outputs": [
    {
     "data": {
      "text/plain": [
       "0    2972\n",
       "1    2014\n",
       "Name: label, dtype: int64"
      ]
     },
     "execution_count": 9,
     "metadata": {},
     "output_type": "execute_result"
    }
   ],
   "source": [
    "train[\"label\"].value_counts()"
   ]
  },
  {
   "cell_type": "code",
   "execution_count": 10,
   "metadata": {
    "id": "DiKlSGL35kMk"
   },
   "outputs": [],
   "source": [
    "from sklearn.feature_extraction.text import CountVectorizer\n",
    "\n",
    "# 引用 NLTK 的 stop words list\n",
    "stop_words=['i', 'me', 'my', 'myself', 'we', 'our', 'ours', 'ourselves', 'you', \"you're\", \"you've\", \"you'll\", \"you'd\", 'your', 'yours', 'yourself', 'yourselves', 'he', 'him', 'his', 'himself', 'she', \"she's\", 'her', 'hers', 'herself', 'it', \"it's\", 'its', 'itself', 'they', 'them', 'their', 'theirs', 'themselves', 'what', 'which', 'who', 'whom', 'this', 'that', \"that'll\", 'these', 'those', 'am', 'is', 'are', 'was', 'were', 'be', 'been', 'being', 'have', 'has', 'had', 'having', 'do', 'does', 'did', 'doing', 'a', 'an', 'the', 'and', 'but', 'if', 'or', 'because', 'as', 'until', 'while', 'of', 'at', 'by', 'for', 'with', 'about', 'against', 'between', 'into', 'through', 'during', 'before', 'after', 'above', 'below', 'to', 'from', 'up', 'down', 'in', 'out', 'on', 'off', 'over', 'under', 'again', 'further', 'then', 'once', 'here', 'there', 'when', 'where', 'why', 'how', 'all', 'any', 'both', 'each', 'few', 'more', 'most', 'other', 'some', 'such', 'no', 'nor', 'not', 'only', 'own', 'same', 'so', 'than', 'too', 'very', 's', 't', 'can', 'will', 'just', 'don', \"don't\", 'should', \"should've\", 'now', 'd', 'll', 'm', 'o', 're', 've', 'y', 'ain', 'aren', \"aren't\", 'couldn', \"couldn't\", 'didn', \"didn't\", 'doesn', \"doesn't\", 'hadn', \"hadn't\", 'hasn', \"hasn't\", 'haven', \"haven't\", 'isn', \"isn't\", 'ma', 'mightn', \"mightn't\", 'mustn', \"mustn't\", 'needn', \"needn't\", 'shan', \"shan't\", 'shouldn', \"shouldn't\", 'wasn', \"wasn't\", 'weren', \"weren't\", 'won', \"won't\", 'wouldn', \"wouldn't\"]\n",
    "\n",
    "# 將文字轉成向量，同時 去除停頓詞stop words \n",
    "vectorizer = CountVectorizer(stop_words=stop_words,max_features=2500)\n",
    "train_vector = vectorizer.fit_transform(train[\"text\"]).toarray()\n",
    "test_vector = vectorizer.fit_transform(test[\"text\"]).toarray()\n",
    "\n",
    "# print(vectorizer.get_feature_names())\n"
   ]
  },
  {
   "cell_type": "code",
   "execution_count": null,
   "metadata": {
    "colab": {
     "base_uri": "https://localhost:8080/"
    },
    "id": "fmsG8lJK5kMk",
    "outputId": "3f5a4533-683a-4aac-a949-7bdd707d5a45"
   },
   "outputs": [
    {
     "data": {
      "text/plain": [
       "4987"
      ]
     },
     "execution_count": 16,
     "metadata": {
      "tags": []
     },
     "output_type": "execute_result"
    }
   ],
   "source": [
    "len(train_vector)"
   ]
  },
  {
   "cell_type": "code",
   "execution_count": 11,
   "metadata": {
    "id": "wFdfAW__5kMk"
   },
   "outputs": [],
   "source": [
    "train_X = train_vector\n",
    "train_y = train[\"label\"].values\n",
    "test_X = test_vector\n",
    "test_y = test[\"label\"].values"
   ]
  },
  {
   "cell_type": "code",
   "execution_count": 12,
   "metadata": {
    "id": "4hg5qF3C5kMl"
   },
   "outputs": [],
   "source": [
    "\"\"\"\n",
    "xgboost\n",
    "\"\"\"\n",
    "import xgboost as xgb\n",
    "\n",
    "# read in data\n",
    "dtrain = xgb.DMatrix(train_X , label=train_y)\n",
    "dtest = xgb.DMatrix(test_X , label=test_y)\n",
    "# specify parameters via map\n",
    "param = {'max_depth': 25, 'eta': 1, 'objective': 'reg:logistic'}\n",
    "param['nthread'] = 4\n",
    "param['eval_metric'] = 'auc'\n",
    "\n",
    "num_round = 5 # 2:電腦跑10秒、5:電腦跑30秒外加風扇全開，決定跑到5就好，不要虐待電腦。recall從0.1升到0.2已經夠了。\n",
    "bst = xgb.train(param, dtrain, num_round)\n",
    "\n",
    "#After training, the model can be saved.\n",
    "bst.save_model('0001.model')\n",
    "\n",
    "#A saved model can be loaded as follows:\n",
    "bst = xgb.Booster({'nthread': 4})  # init model\n",
    "bst.load_model('0001.model')  # load data\n",
    "\n",
    "# make prediction\n",
    "#preds = bst.predict(dtest)"
   ]
  },
  {
   "cell_type": "code",
   "execution_count": 13,
   "metadata": {
    "id": "aUabAvDu5kMl"
   },
   "outputs": [],
   "source": [
    "# 預測數據集 \n",
    "y_pred = bst.predict(dtest)"
   ]
  },
  {
   "cell_type": "code",
   "execution_count": null,
   "metadata": {
    "id": "j8G3vhRq5kMl"
   },
   "outputs": [],
   "source": [
    "import matplotlib\n",
    "#畫出 XGB的樹\n",
    "xgb.to_graphviz(bst)"
   ]
  },
  {
   "cell_type": "code",
   "execution_count": null,
   "metadata": {
    "id": "tJ9iQddY5kMl",
    "outputId": "37ff5104-fa47-4527-e1cd-0485f180aabe"
   },
   "outputs": [
    {
     "name": "stdout",
     "output_type": "stream",
     "text": [
      "XGboost precision= 0.47985347985347987\n",
      "XGboost recall= 0.21231766612641814\n",
      "XGboost accuracy= 0.4963913392141139\n",
      "XGboost f1_score= 0.2943820224719101\n"
     ]
    }
   ],
   "source": [
    "# 計算Precision, Recall, Accuracy\n",
    "# II. 函式計算\n",
    "from sklearn.metrics import precision_score, recall_score, accuracy_score, f1_score\n",
    "\n",
    "precision = precision_score(test_y,y_pred.round())\n",
    "recall = recall_score(test_y,y_pred.round())\n",
    "accuracy = accuracy_score(test_y,y_pred.round())\n",
    "f1_measure = f1_score(test_y,y_pred.round())\n",
    "print(\"XGboost precision=\",precision)\n",
    "print(\"XGboost recall=\",recall)\n",
    "print(\"XGboost accuracy=\",accuracy)\n",
    "print(\"XGboost f1_score=\",f1_measure)\n"
   ]
  },
  {
   "cell_type": "code",
   "execution_count": 14,
   "metadata": {},
   "outputs": [
    {
     "name": "stdout",
     "output_type": "stream",
     "text": [
      "XGboost precision= 0.4792703150912106\n",
      "XGboost recall= 0.4683954619124797\n",
      "XGboost accuracy= 0.48516439454691257\n",
      "XGboost f1_score= 0.4737704918032787\n"
     ]
    }
   ],
   "source": [
    "# 計算Precision, Recall, Accuracy\n",
    "# II. 函式計算\n",
    "from sklearn.metrics import precision_score, recall_score, accuracy_score, f1_score\n",
    "\n",
    "precision = precision_score(test_y,y_pred.round())\n",
    "recall = recall_score(test_y,y_pred.round())\n",
    "accuracy = accuracy_score(test_y,y_pred.round())\n",
    "f1_measure = f1_score(test_y,y_pred.round())\n",
    "print(\"XGboost precision=\",precision)\n",
    "print(\"XGboost recall=\",recall)\n",
    "print(\"XGboost accuracy=\",accuracy)\n",
    "print(\"XGboost f1_score=\",f1_measure)"
   ]
  },
  {
   "cell_type": "code",
   "execution_count": 15,
   "metadata": {
    "id": "PrCdZTbN5kMl"
   },
   "outputs": [],
   "source": [
    "train_y=[]\n",
    "for i in train[\"label\"]:\n",
    "    a = int(i)\n",
    "    train_y.append(a)"
   ]
  },
  {
   "cell_type": "code",
   "execution_count": 16,
   "metadata": {
    "id": "TLskn7lc5kMl"
   },
   "outputs": [],
   "source": [
    "train_X = train_vector\n",
    "train_y = train_y\n",
    "test_X = test_vector\n",
    "test_y = test[\"label\"].values"
   ]
  },
  {
   "cell_type": "code",
   "execution_count": 17,
   "metadata": {
    "id": "9bDkzHYM5kMl"
   },
   "outputs": [],
   "source": [
    "\"\"\"\n",
    "GBDT\n",
    "\"\"\"\n",
    "# from sklearn.experimental import enable_hist_gradient_boosting\n",
    "# from sklearn import ensemble\n",
    "\n",
    "# model = ensemble.HistGradientBoostingClassifier()\n",
    "# model.fit(train_X, train_y)\n",
    "# y_pred_GBDT=model.predict(test_X)\n",
    "# 跑超過4分鐘，終於沒有error，但是整個chrome跳出\"記憶體滿載\"的提示後強制關閉\n",
    "\n",
    "# 跑超過1小時，只好先中止\n",
    "# from GBDT.gbdt import GradientBoostingBinaryClassifier\n",
    "# model = GradientBoostingBinaryClassifier(learning_rate=0.1, max_depth=10)\n",
    "# model.fit(train_X, train_y)\n",
    "# y_pred_GBDT=model.predict(test_X)\n",
    "\n",
    "# 為什麼跑5分鐘都跑不出來東西RRR，又不是多大的模型\n",
    "from sklearn.ensemble import GradientBoostingClassifier\n",
    "clf = GradientBoostingClassifier(learning_rate=1.0, max_depth=1, random_state=0)\n",
    "clf.fit(train_X, train_y)\n"
   ]
  },
  {
   "cell_type": "code",
   "execution_count": 18,
   "metadata": {},
   "outputs": [],
   "source": [
    "y_pred_GBDT = clf.predict(test_X)"
   ]
  },
  {
   "cell_type": "code",
   "execution_count": 19,
   "metadata": {},
   "outputs": [
    {
     "name": "stdout",
     "output_type": "stream",
     "text": [
      "GBDT precision= 0.5158924205378973\n",
      "GBDT recall= 0.3419773095623987\n",
      "GBDT accuracy= 0.5156375300721732\n",
      "GBDT f1_score= 0.41130604288499023\n"
     ]
    }
   ],
   "source": [
    "# 計算Precision, Recall, Accuracy\n",
    "# II. 函式計算\n",
    "from sklearn.metrics import precision_score, recall_score, accuracy_score, f1_score\n",
    "\n",
    "precision = precision_score(test_y,y_pred_GBDT.round())\n",
    "recall = recall_score(test_y,y_pred_GBDT.round())\n",
    "accuracy = accuracy_score(test_y,y_pred_GBDT.round())\n",
    "f1_measure = f1_score(test_y,y_pred_GBDT.round())\n",
    "print(\"GBDT precision=\",precision)\n",
    "print(\"GBDT recall=\",recall)\n",
    "print(\"GBDT accuracy=\",accuracy)\n",
    "print(\"GBDT f1_score=\",f1_measure)"
   ]
  },
  {
   "cell_type": "code",
   "execution_count": null,
   "metadata": {
    "id": "S3htN0yu5kMl"
   },
   "outputs": [],
   "source": [
    "from sklearn.datasets import make_classification\n",
    "from sklearn.ensemble import GradientBoostingClassifier\n",
    "from sklearn.model_selection import train_test_split\n",
    "X, y = make_classification(random_state=0)\n",
    "X_train, X_test, y_train, y_test = train_test_split(\n",
    "    X, y, random_state=0)\n",
    "clf = GradientBoostingClassifier(random_state=0)\n",
    "clf.fit(X_train, y_train)\n",
    "\n",
    "clf.predict(X_test[:2])\n",
    "\n",
    "clf.score(X_test, y_test)"
   ]
  },
  {
   "cell_type": "code",
   "execution_count": null,
   "metadata": {
    "id": "upwE3saj5kMl",
    "outputId": "1c777df2-349e-489f-b0d4-59942d278dfb"
   },
   "outputs": [
    {
     "data": {
      "text/plain": [
       "75"
      ]
     },
     "execution_count": 244,
     "metadata": {
      "tags": []
     },
     "output_type": "execute_result"
    }
   ],
   "source": [
    "len(X_train)"
   ]
  },
  {
   "cell_type": "code",
   "execution_count": null,
   "metadata": {
    "id": "cINIZCgC5kMl",
    "outputId": "158b46c1-848c-4135-cc48-f7c97a8a62ef"
   },
   "outputs": [
    {
     "data": {
      "text/plain": [
       "array([[-0.65240858,  0.49374178,  1.30184623, ..., -1.30819171,\n",
       "        -1.04525337, -0.11054066],\n",
       "       [ 0.35178011, -0.47003288, -0.37914756, ..., -2.38076394,\n",
       "        -0.11048941, -1.55042935],\n",
       "       [-1.58249448, -1.42279491, -0.56430103, ...,  1.26661394,\n",
       "        -1.31771734,  1.61805427],\n",
       "       ...,\n",
       "       [-0.96050438, -2.28862004,  1.02943883, ..., -0.79347019,\n",
       "         1.12859406, -0.27567053],\n",
       "       [ 0.91017891,  0.78632796,  0.06326199, ...,  0.42234144,\n",
       "        -0.46359597, -0.01702041],\n",
       "       [-0.87916063, -1.63880731, -0.30769128, ..., -0.6054158 ,\n",
       "         1.57886519,  0.73165893]])"
      ]
     },
     "execution_count": 246,
     "metadata": {
      "tags": []
     },
     "output_type": "execute_result"
    }
   ],
   "source": [
    "X_train"
   ]
  },
  {
   "cell_type": "code",
   "execution_count": null,
   "metadata": {
    "id": "fye6Rnwe5kMl",
    "outputId": "ae3c26aa-370b-4422-df94-8de65c716db7"
   },
   "outputs": [
    {
     "data": {
      "text/plain": [
       "75"
      ]
     },
     "execution_count": 245,
     "metadata": {
      "tags": []
     },
     "output_type": "execute_result"
    }
   ],
   "source": [
    "len(y_train)"
   ]
  },
  {
   "cell_type": "code",
   "execution_count": null,
   "metadata": {
    "id": "JQicm_AC5kMl",
    "outputId": "beb9dd31-488e-4cf6-edae-372068e8883a"
   },
   "outputs": [
    {
     "data": {
      "text/plain": [
       "array([0, 0, 0, 0, 0, 0, 0, 1, 0, 1, 1, 0, 0, 0, 1, 0, 1, 1, 0, 1, 1, 1,\n",
       "       1, 1, 0, 0, 0, 0, 1, 0, 1, 0, 1, 0, 0, 0, 0, 1, 0, 0, 0, 0, 0, 1,\n",
       "       1, 1, 1, 1, 1, 1, 0, 1, 0, 1, 1, 1, 1, 0, 1, 0, 1, 1, 1, 0, 1, 1,\n",
       "       0, 1, 1, 1, 1, 1, 0, 0, 0])"
      ]
     },
     "execution_count": 247,
     "metadata": {
      "tags": []
     },
     "output_type": "execute_result"
    }
   ],
   "source": [
    "y_train"
   ]
  },
  {
   "cell_type": "code",
   "execution_count": null,
   "metadata": {
    "id": "EajBJM2t5kMl",
    "outputId": "6fbaf4ae-5793-465c-9e18-d82478472047"
   },
   "outputs": [
    {
     "data": {
      "text/plain": [
       "array([1, 1, 1, 0, 0, 1, 1, 0, 1, 1, 1, 0, 0, 0, 0, 1, 0, 0, 1, 1, 0, 0,\n",
       "       1, 0, 0])"
      ]
     },
     "execution_count": 199,
     "metadata": {
      "tags": []
     },
     "output_type": "execute_result"
    }
   ],
   "source": [
    "y_test"
   ]
  },
  {
   "cell_type": "code",
   "execution_count": 20,
   "metadata": {
    "id": "qUpqo8_35kMl",
    "outputId": "6d02ca00-7158-4722-c2c3-1a399b946803"
   },
   "outputs": [
    {
     "name": "stdout",
     "output_type": "stream",
     "text": [
      "[LightGBM] [Info] Number of positive: 2014, number of negative: 2972\n",
      "[LightGBM] [Warning] Auto-choosing row-wise multi-threading, the overhead of testing was 0.022276 seconds.\n",
      "You can set `force_row_wise=true` to remove the overhead.\n",
      "And if memory is not enough, you can set `force_col_wise=true`.\n",
      "[LightGBM] [Info] Total Bins 20373\n",
      "[LightGBM] [Info] Number of data points in the train set: 4986, number of used features: 2482\n",
      "[LightGBM] [Info] [binary:BoostFromScore]: pavg=0.403931 -> initscore=-0.389112\n",
      "[LightGBM] [Info] Start training from score -0.389112\n"
     ]
    }
   ],
   "source": [
    "\"\"\"\n",
    "Light GBM\n",
    "\"\"\"\n",
    "\n",
    "import lightgbm as lgb \n",
    "\n",
    "train_data = lgb.Dataset(train_X , label=train_y)\n",
    "\n",
    "param = {'num_leaves': 31, 'objective': 'binary'}\n",
    "param['metric'] = 'auc'\n",
    "\n",
    "num_round = 10\n",
    "bst = lgb.train(param, train_data, num_round)\n",
    "\n",
    "# After training, the model can be saved:\n",
    "bst.save_model('model.txt')\n",
    "\n",
    "# A saved model can be loaded:\n",
    "bst = lgb.Booster(model_file='model.txt')  # init model\n",
    "\n",
    "ypred_LightGBM = bst.predict(test_X, predict_disable_shape_check=\"true\")"
   ]
  },
  {
   "cell_type": "code",
   "execution_count": 21,
   "metadata": {
    "id": "QPrYo5gu5kMl",
    "outputId": "4abbaa8e-b905-4514-e2e5-7e0924706545"
   },
   "outputs": [
    {
     "name": "stdout",
     "output_type": "stream",
     "text": [
      "Light GBM precision= 0.5264900662251656\n",
      "Light GBM recall= 0.2576985413290113\n",
      "Light GBM accuracy= 0.5180433039294307\n",
      "Light GBM f1_score= 0.34602829162132753\n"
     ]
    }
   ],
   "source": [
    "# 計算Precision, Recall, Accuracy\n",
    "# II. 函式計算\n",
    "from sklearn.metrics import precision_score, recall_score, accuracy_score, f1_score\n",
    "\n",
    "precision_LightGBM = precision_score(test_y,ypred_LightGBM.round())\n",
    "recall_LightGBM = recall_score(test_y,ypred_LightGBM.round())\n",
    "accuracy_LightGBM = accuracy_score(test_y,ypred_LightGBM.round())\n",
    "f1_measure_LightGBM = f1_score(test_y,ypred_LightGBM.round())\n",
    "print(\"Light GBM precision=\",precision_LightGBM)\n",
    "print(\"Light GBM recall=\",recall_LightGBM)\n",
    "print(\"Light GBM accuracy=\",accuracy_LightGBM)\n",
    "print(\"Light GBM f1_score=\",f1_measure_LightGBM)"
   ]
  },
  {
   "cell_type": "code",
   "execution_count": null,
   "metadata": {
    "id": "gcbFPVVC5kMl"
   },
   "outputs": [],
   "source": []
  }
 ],
 "metadata": {
  "colab": {
   "name": "Untitled.ipynb",
   "provenance": []
  },
  "kernelspec": {
   "display_name": "py37",
   "language": "python",
   "name": "env_name"
  },
  "language_info": {
   "codemirror_mode": {
    "name": "ipython",
    "version": 3
   },
   "file_extension": ".py",
   "mimetype": "text/x-python",
   "name": "python",
   "nbconvert_exporter": "python",
   "pygments_lexer": "ipython3",
   "version": "3.7.7"
  }
 },
 "nbformat": 4,
 "nbformat_minor": 4
}
