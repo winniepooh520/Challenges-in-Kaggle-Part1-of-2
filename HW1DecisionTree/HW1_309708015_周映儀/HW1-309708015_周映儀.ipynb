{
 "cells": [
  {
   "cell_type": "markdown",
   "metadata": {},
   "source": [
    "HW1 - Decision Tree\n",
    "\n",
    "本次作業為預測角色是否死亡 (繳交期限：10/15 23:55)\n",
    "\n",
    "資料集在以下網址:\n",
    "\n",
    "https://www.kaggle.com/mylesoneill/game-of-thrones\n",
    "\n",
    "其中第二份資料的character-deaths.csv\n",
    "\n",
    "其中三個欄位 Death Year , Book of Death , Death Chapter 取其中一個欄位當預測目標用即可\n",
    "\n",
    "請將欄位的空值轉成0(代表存活)，有數值的轉成1(代表死亡)\n",
    "\n",
    "\n",
    "作業流程&要求 ※請使用python處理，可以使用任何套件\n",
    "\n",
    "1)將資料讀取進來(可用pandas套件)\n",
    "\n",
    "2)資料前處理\n",
    "\n",
    " 2-1把空值以0替代\n",
    "\n",
    " 2-2Death Year , Book of Death , Death Chapter三者取一個，將有數值的轉成1\n",
    "\n",
    " 2-3將Allegiances轉成dummy特徵(底下有幾種分類就會變成幾個特徵，值是0或1，本來的資料集就會再增加約20種特徵)\n",
    "\n",
    " 2-4亂數拆成訓練集(75%)與測試集(25%) \n",
    "\n",
    "3)使用scikit-learn的DecisionTreeClassifier進行預測(可以先試著將網頁範例(iris)跑出來在使用這次作業的資料集)\n",
    "\n",
    "4)做出Confusion Matrix，並計算Precision, Recall, Accuracy (提示: 可使用sklearn.metrics)\n",
    "\n",
    "5)產出決策樹的圖\n",
    "\n",
    "  p.s 記得限制樹的深度，以免結果無法顯示\n",
    "\n",
    " \n",
    "\n",
    "請將(4)(5)的結果截圖上傳(word 或 PDF)，並上傳python程式碼。\n",
    "\n",
    "可以嘗試改善資料前處理部分&調整決策樹參數以增加Accuracy\n",
    " \n",
    "\n",
    "要上傳的東西:\n",
    "\n",
    "1.Word/PDF(截圖跟簡短說明、討論等等)\n",
    "\n",
    "2.Python程式碼(.py檔)\n",
    "\n",
    " \n",
    "\n",
    "有任何問題請email聯繫助教\n",
    "\n",
    " \n",
    "\n",
    "參考:\n",
    "\n",
    "1. 推薦用Anaconda安裝python環境，包含Jupyter Notebook、Spyder等IDE以及相關套件\n",
    "\n",
    "2. scikit-learn上的決策樹教學\n",
    "\n",
    "http://scikit-learn.org/stable/modules/tree.html\n",
    "\n",
    "3. 若(5)graphviz發生問題，請試試看conda install graphviz並重啟IDE\n",
    "\n",
    "https://stackoverflow.com/questions/28312534/graphvizs-executables-are-not-found-python-3-4\n",
    "\n"
   ]
  },
  {
   "cell_type": "code",
   "execution_count": 2,
   "metadata": {},
   "outputs": [
    {
     "name": "stdout",
     "output_type": "stream",
     "text": [
      "<class 'pandas.core.frame.DataFrame'>\n",
      "RangeIndex: 917 entries, 0 to 916\n",
      "Data columns (total 13 columns):\n",
      " #   Column              Non-Null Count  Dtype  \n",
      "---  ------              --------------  -----  \n",
      " 0   Name                917 non-null    object \n",
      " 1   Allegiances         917 non-null    object \n",
      " 2   Death Year          305 non-null    float64\n",
      " 3   Book of Death       307 non-null    float64\n",
      " 4   Death Chapter       299 non-null    float64\n",
      " 5   Book Intro Chapter  905 non-null    float64\n",
      " 6   Gender              917 non-null    int64  \n",
      " 7   Nobility            917 non-null    int64  \n",
      " 8   GoT                 917 non-null    int64  \n",
      " 9   CoK                 917 non-null    int64  \n",
      " 10  SoS                 917 non-null    int64  \n",
      " 11  FfC                 917 non-null    int64  \n",
      " 12  DwD                 917 non-null    int64  \n",
      "dtypes: float64(4), int64(7), object(2)\n",
      "memory usage: 93.3+ KB\n"
     ]
    }
   ],
   "source": [
    "\"\"\"\n",
    "1)將資料讀取進來(可用pandas套件)\n",
    "\"\"\"\n",
    "# loading package\n",
    "#並合併train&test data\n",
    "import numpy as np \n",
    "import pandas as pd\n",
    "import matplotlib.pyplot as plt \n",
    "import seaborn as sns \n",
    "%matplotlib inline\n",
    "sns.set(font_scale=1.56)\n",
    "from sklearn.ensemble import RandomForestClassifier\n",
    "from sklearn.model_selection import cross_val_score, StratifiedKFold, learning_curve, train_test_split\n",
    "from sklearn.preprocessing import LabelEncoder\n",
    "from sklearn.feature_selection import RFECV\n",
    "\n",
    "# loading data\n",
    "data = pd.read_csv(\"character-deaths.csv\")\n",
    "data.info()"
   ]
  },
  {
   "cell_type": "code",
   "execution_count": null,
   "metadata": {},
   "outputs": [],
   "source": [
    "# 觀察資料型態、關聯性、等各式統計資料 in \"your_report.html\"\n",
    "from pandas_profiling import ProfileReport\n",
    "\n",
    "profile = ProfileReport(data, title='Pandas Profiling Report')\n",
    "profile.to_file(\"your_report.html\")"
   ]
  },
  {
   "cell_type": "code",
   "execution_count": 3,
   "metadata": {},
   "outputs": [
    {
     "name": "stdout",
     "output_type": "stream",
     "text": [
      "Index(['name', 'allegiances', 'death_year', 'book_of_death', 'death_chapter',\n",
      "       'book_intro_chapter', 'gender', 'nobility', 'got', 'cok', 'sos', 'ffc',\n",
      "       'dwd'],\n",
      "      dtype='object')\n"
     ]
    }
   ],
   "source": [
    "\"\"\"\n",
    "2)資料前處理\n",
    "\"\"\"\n",
    "# Column Name中的空格用\"_\"替代\n",
    "# DataFrame.columns \n",
    "# print(data.columns)\n",
    "# >>>Index(['Name', 'Allegiances', 'Death Year', 'Book of Death', 'Death Chapter',\n",
    "#        'Book Intro Chapter', 'Gender', 'Nobility', 'GoT', 'CoK', 'SoS', 'FfC',\n",
    "#        'DwD'],\n",
    "#       dtype='object')\n",
    "\n",
    "def clean_col(col):\n",
    "    col = col.replace(\" \",\"_\")\n",
    "    col = col.lower()\n",
    "    return col\n",
    "\n",
    "#Used a loop to apply the function to each item in the index object and assign it back to \n",
    "#the DataFrame.columns attribute.\n",
    "new_columns = []\n",
    "for c in data.columns:\n",
    "    clean_c = clean_col(c)\n",
    "    new_columns.append(clean_c)\n",
    "\n",
    "data.columns = new_columns\n",
    "print(data.columns)"
   ]
  },
  {
   "cell_type": "code",
   "execution_count": 6,
   "metadata": {},
   "outputs": [
    {
     "data": {
      "text/plain": [
       "array([ nan, 299., 300., 298., 297.])"
      ]
     },
     "execution_count": 6,
     "metadata": {},
     "output_type": "execute_result"
    }
   ],
   "source": [
    "data[\"death_year\"].unique()"
   ]
  },
  {
   "cell_type": "code",
   "execution_count": 7,
   "metadata": {},
   "outputs": [
    {
     "data": {
      "text/plain": [
       "array([nan,  3.,  5.,  4.,  2.,  1.])"
      ]
     },
     "execution_count": 7,
     "metadata": {},
     "output_type": "execute_result"
    }
   ],
   "source": [
    "data[\"book_of_death\"].unique()  \n",
    "# nan前面沒有空格、unique值分僅5組，且空值佔比為三者中最低(見統計文件:your_report.html)→選用"
   ]
  },
  {
   "cell_type": "code",
   "execution_count": 8,
   "metadata": {},
   "outputs": [
    {
     "data": {
      "text/plain": [
       "array([nan, 51., 20., 35., 56.,  4., 46., 10., 34., 47., 41., 21., 33.,\n",
       "       39., 52., 37., 24., 31., 27., 62., 65.,  7., 49., 50., 42., 30.,\n",
       "       66., 64., 29.,  0., 53., 58., 76., 63., 55., 14., 61., 12., 68.,\n",
       "       69., 80., 36.,  1., 19., 72., 59., 43., 70., 75., 11.,  3., 60.,\n",
       "       26., 44., 67., 45., 18., 23., 57., 25., 16., 17., 48.,  9.,  2.,\n",
       "        6., 32., 77., 74., 40., 38., 73.])"
      ]
     },
     "execution_count": 8,
     "metadata": {},
     "output_type": "execute_result"
    }
   ],
   "source": [
    "data[\"death_chapter\"].unique() "
   ]
  },
  {
   "cell_type": "code",
   "execution_count": 4,
   "metadata": {},
   "outputs": [
    {
     "name": "stdout",
     "output_type": "stream",
     "text": [
      "<class 'pandas.core.frame.DataFrame'>\n",
      "RangeIndex: 917 entries, 0 to 916\n",
      "Data columns (total 13 columns):\n",
      " #   Column              Non-Null Count  Dtype  \n",
      "---  ------              --------------  -----  \n",
      " 0   name                917 non-null    object \n",
      " 1   allegiances         917 non-null    object \n",
      " 2   death_year          917 non-null    float64\n",
      " 3   book_of_death       917 non-null    float64\n",
      " 4   death_chapter       917 non-null    float64\n",
      " 5   book_intro_chapter  917 non-null    float64\n",
      " 6   gender              917 non-null    int64  \n",
      " 7   nobility            917 non-null    int64  \n",
      " 8   got                 917 non-null    int64  \n",
      " 9   cok                 917 non-null    int64  \n",
      " 10  sos                 917 non-null    int64  \n",
      " 11  ffc                 917 non-null    int64  \n",
      " 12  dwd                 917 non-null    int64  \n",
      "dtypes: float64(4), int64(7), object(2)\n",
      "memory usage: 93.3+ KB\n"
     ]
    }
   ],
   "source": [
    "# 2-1把空值以0替代\n",
    "for i in data:\n",
    "    data[i] = data[i].fillna(0)\n",
    "data.info()\n",
    "#利用 info() ，確認不存在空值"
   ]
  },
  {
   "cell_type": "code",
   "execution_count": 5,
   "metadata": {},
   "outputs": [
    {
     "name": "stderr",
     "output_type": "stream",
     "text": [
      "C:\\Users\\User\\.conda\\envs\\env_name\\lib\\site-packages\\pandas\\core\\indexing.py:670: SettingWithCopyWarning: \n",
      "A value is trying to be set on a copy of a slice from a DataFrame\n",
      "\n",
      "See the caveats in the documentation: https://pandas.pydata.org/pandas-docs/stable/user_guide/indexing.html#returning-a-view-versus-a-copy\n",
      "  iloc._setitem_with_indexer(indexer, value)\n"
     ]
    },
    {
     "data": {
      "text/plain": [
       "array([0., 1.])"
      ]
     },
     "execution_count": 5,
     "metadata": {},
     "output_type": "execute_result"
    }
   ],
   "source": [
    "#2-2Death Year , Book of Death , Death Chapter三者中取 book_of_death，將有數值的轉成1\n",
    "\n",
    "data[\"book_of_death\"].loc[data[\"book_of_death\"]!=0] =1\n",
    "\n",
    "data[\"book_of_death\"].unique()"
   ]
  },
  {
   "cell_type": "code",
   "execution_count": 6,
   "metadata": {},
   "outputs": [
    {
     "data": {
      "text/html": [
       "<div>\n",
       "<style scoped>\n",
       "    .dataframe tbody tr th:only-of-type {\n",
       "        vertical-align: middle;\n",
       "    }\n",
       "\n",
       "    .dataframe tbody tr th {\n",
       "        vertical-align: top;\n",
       "    }\n",
       "\n",
       "    .dataframe thead th {\n",
       "        text-align: right;\n",
       "    }\n",
       "</style>\n",
       "<table border=\"1\" class=\"dataframe\">\n",
       "  <thead>\n",
       "    <tr style=\"text-align: right;\">\n",
       "      <th></th>\n",
       "      <th>name</th>\n",
       "      <th>allegiances</th>\n",
       "      <th>death_year</th>\n",
       "      <th>book_of_death</th>\n",
       "      <th>death_chapter</th>\n",
       "      <th>book_intro_chapter</th>\n",
       "      <th>gender</th>\n",
       "      <th>nobility</th>\n",
       "      <th>got</th>\n",
       "      <th>cok</th>\n",
       "      <th>sos</th>\n",
       "      <th>ffc</th>\n",
       "      <th>dwd</th>\n",
       "    </tr>\n",
       "  </thead>\n",
       "  <tbody>\n",
       "    <tr>\n",
       "      <th>0</th>\n",
       "      <td>Addam Marbrand</td>\n",
       "      <td>Lannister</td>\n",
       "      <td>0.0</td>\n",
       "      <td>0.0</td>\n",
       "      <td>0.0</td>\n",
       "      <td>56.0</td>\n",
       "      <td>1</td>\n",
       "      <td>1</td>\n",
       "      <td>1</td>\n",
       "      <td>1</td>\n",
       "      <td>1</td>\n",
       "      <td>1</td>\n",
       "      <td>0</td>\n",
       "    </tr>\n",
       "    <tr>\n",
       "      <th>1</th>\n",
       "      <td>Aegon Frey (Jinglebell)</td>\n",
       "      <td>None</td>\n",
       "      <td>299.0</td>\n",
       "      <td>1.0</td>\n",
       "      <td>51.0</td>\n",
       "      <td>49.0</td>\n",
       "      <td>1</td>\n",
       "      <td>1</td>\n",
       "      <td>0</td>\n",
       "      <td>0</td>\n",
       "      <td>1</td>\n",
       "      <td>0</td>\n",
       "      <td>0</td>\n",
       "    </tr>\n",
       "    <tr>\n",
       "      <th>2</th>\n",
       "      <td>Aegon Targaryen</td>\n",
       "      <td>House Targaryen</td>\n",
       "      <td>0.0</td>\n",
       "      <td>0.0</td>\n",
       "      <td>0.0</td>\n",
       "      <td>5.0</td>\n",
       "      <td>1</td>\n",
       "      <td>1</td>\n",
       "      <td>0</td>\n",
       "      <td>0</td>\n",
       "      <td>0</td>\n",
       "      <td>0</td>\n",
       "      <td>1</td>\n",
       "    </tr>\n",
       "    <tr>\n",
       "      <th>3</th>\n",
       "      <td>Adrack Humble</td>\n",
       "      <td>House Greyjoy</td>\n",
       "      <td>300.0</td>\n",
       "      <td>1.0</td>\n",
       "      <td>20.0</td>\n",
       "      <td>20.0</td>\n",
       "      <td>1</td>\n",
       "      <td>1</td>\n",
       "      <td>0</td>\n",
       "      <td>0</td>\n",
       "      <td>0</td>\n",
       "      <td>0</td>\n",
       "      <td>1</td>\n",
       "    </tr>\n",
       "    <tr>\n",
       "      <th>4</th>\n",
       "      <td>Aemon Costayne</td>\n",
       "      <td>Lannister</td>\n",
       "      <td>0.0</td>\n",
       "      <td>0.0</td>\n",
       "      <td>0.0</td>\n",
       "      <td>0.0</td>\n",
       "      <td>1</td>\n",
       "      <td>1</td>\n",
       "      <td>0</td>\n",
       "      <td>0</td>\n",
       "      <td>1</td>\n",
       "      <td>0</td>\n",
       "      <td>0</td>\n",
       "    </tr>\n",
       "  </tbody>\n",
       "</table>\n",
       "</div>"
      ],
      "text/plain": [
       "                      name      allegiances  death_year  book_of_death  \\\n",
       "0           Addam Marbrand        Lannister         0.0            0.0   \n",
       "1  Aegon Frey (Jinglebell)             None       299.0            1.0   \n",
       "2          Aegon Targaryen  House Targaryen         0.0            0.0   \n",
       "3            Adrack Humble    House Greyjoy       300.0            1.0   \n",
       "4           Aemon Costayne        Lannister         0.0            0.0   \n",
       "\n",
       "   death_chapter  book_intro_chapter  gender  nobility  got  cok  sos  ffc  \\\n",
       "0            0.0                56.0       1         1    1    1    1    1   \n",
       "1           51.0                49.0       1         1    0    0    1    0   \n",
       "2            0.0                 5.0       1         1    0    0    0    0   \n",
       "3           20.0                20.0       1         1    0    0    0    0   \n",
       "4            0.0                 0.0       1         1    0    0    1    0   \n",
       "\n",
       "   dwd  \n",
       "0    0  \n",
       "1    0  \n",
       "2    1  \n",
       "3    1  \n",
       "4    0  "
      ]
     },
     "execution_count": 6,
     "metadata": {},
     "output_type": "execute_result"
    }
   ],
   "source": [
    "data.head()"
   ]
  },
  {
   "cell_type": "code",
   "execution_count": 7,
   "metadata": {},
   "outputs": [
    {
     "data": {
      "text/html": [
       "<div>\n",
       "<style scoped>\n",
       "    .dataframe tbody tr th:only-of-type {\n",
       "        vertical-align: middle;\n",
       "    }\n",
       "\n",
       "    .dataframe tbody tr th {\n",
       "        vertical-align: top;\n",
       "    }\n",
       "\n",
       "    .dataframe thead th {\n",
       "        text-align: right;\n",
       "    }\n",
       "</style>\n",
       "<table border=\"1\" class=\"dataframe\">\n",
       "  <thead>\n",
       "    <tr style=\"text-align: right;\">\n",
       "      <th></th>\n",
       "      <th>book_intro_chapter</th>\n",
       "      <th>gender</th>\n",
       "      <th>nobility</th>\n",
       "      <th>got</th>\n",
       "      <th>cok</th>\n",
       "      <th>sos</th>\n",
       "      <th>ffc</th>\n",
       "      <th>dwd</th>\n",
       "      <th>allegiances_Arryn</th>\n",
       "      <th>allegiances_Baratheon</th>\n",
       "      <th>...</th>\n",
       "      <th>allegiances_House Tyrell</th>\n",
       "      <th>allegiances_Lannister</th>\n",
       "      <th>allegiances_Martell</th>\n",
       "      <th>allegiances_Night's Watch</th>\n",
       "      <th>allegiances_None</th>\n",
       "      <th>allegiances_Stark</th>\n",
       "      <th>allegiances_Targaryen</th>\n",
       "      <th>allegiances_Tully</th>\n",
       "      <th>allegiances_Tyrell</th>\n",
       "      <th>allegiances_Wildling</th>\n",
       "    </tr>\n",
       "  </thead>\n",
       "  <tbody>\n",
       "    <tr>\n",
       "      <th>0</th>\n",
       "      <td>56.0</td>\n",
       "      <td>1</td>\n",
       "      <td>1</td>\n",
       "      <td>1</td>\n",
       "      <td>1</td>\n",
       "      <td>1</td>\n",
       "      <td>1</td>\n",
       "      <td>0</td>\n",
       "      <td>0</td>\n",
       "      <td>0</td>\n",
       "      <td>...</td>\n",
       "      <td>0</td>\n",
       "      <td>1</td>\n",
       "      <td>0</td>\n",
       "      <td>0</td>\n",
       "      <td>0</td>\n",
       "      <td>0</td>\n",
       "      <td>0</td>\n",
       "      <td>0</td>\n",
       "      <td>0</td>\n",
       "      <td>0</td>\n",
       "    </tr>\n",
       "    <tr>\n",
       "      <th>1</th>\n",
       "      <td>49.0</td>\n",
       "      <td>1</td>\n",
       "      <td>1</td>\n",
       "      <td>0</td>\n",
       "      <td>0</td>\n",
       "      <td>1</td>\n",
       "      <td>0</td>\n",
       "      <td>0</td>\n",
       "      <td>0</td>\n",
       "      <td>0</td>\n",
       "      <td>...</td>\n",
       "      <td>0</td>\n",
       "      <td>0</td>\n",
       "      <td>0</td>\n",
       "      <td>0</td>\n",
       "      <td>1</td>\n",
       "      <td>0</td>\n",
       "      <td>0</td>\n",
       "      <td>0</td>\n",
       "      <td>0</td>\n",
       "      <td>0</td>\n",
       "    </tr>\n",
       "    <tr>\n",
       "      <th>2</th>\n",
       "      <td>5.0</td>\n",
       "      <td>1</td>\n",
       "      <td>1</td>\n",
       "      <td>0</td>\n",
       "      <td>0</td>\n",
       "      <td>0</td>\n",
       "      <td>0</td>\n",
       "      <td>1</td>\n",
       "      <td>0</td>\n",
       "      <td>0</td>\n",
       "      <td>...</td>\n",
       "      <td>0</td>\n",
       "      <td>0</td>\n",
       "      <td>0</td>\n",
       "      <td>0</td>\n",
       "      <td>0</td>\n",
       "      <td>0</td>\n",
       "      <td>0</td>\n",
       "      <td>0</td>\n",
       "      <td>0</td>\n",
       "      <td>0</td>\n",
       "    </tr>\n",
       "    <tr>\n",
       "      <th>3</th>\n",
       "      <td>20.0</td>\n",
       "      <td>1</td>\n",
       "      <td>1</td>\n",
       "      <td>0</td>\n",
       "      <td>0</td>\n",
       "      <td>0</td>\n",
       "      <td>0</td>\n",
       "      <td>1</td>\n",
       "      <td>0</td>\n",
       "      <td>0</td>\n",
       "      <td>...</td>\n",
       "      <td>0</td>\n",
       "      <td>0</td>\n",
       "      <td>0</td>\n",
       "      <td>0</td>\n",
       "      <td>0</td>\n",
       "      <td>0</td>\n",
       "      <td>0</td>\n",
       "      <td>0</td>\n",
       "      <td>0</td>\n",
       "      <td>0</td>\n",
       "    </tr>\n",
       "    <tr>\n",
       "      <th>4</th>\n",
       "      <td>0.0</td>\n",
       "      <td>1</td>\n",
       "      <td>1</td>\n",
       "      <td>0</td>\n",
       "      <td>0</td>\n",
       "      <td>1</td>\n",
       "      <td>0</td>\n",
       "      <td>0</td>\n",
       "      <td>0</td>\n",
       "      <td>0</td>\n",
       "      <td>...</td>\n",
       "      <td>0</td>\n",
       "      <td>1</td>\n",
       "      <td>0</td>\n",
       "      <td>0</td>\n",
       "      <td>0</td>\n",
       "      <td>0</td>\n",
       "      <td>0</td>\n",
       "      <td>0</td>\n",
       "      <td>0</td>\n",
       "      <td>0</td>\n",
       "    </tr>\n",
       "  </tbody>\n",
       "</table>\n",
       "<p>5 rows × 29 columns</p>\n",
       "</div>"
      ],
      "text/plain": [
       "   book_intro_chapter  gender  nobility  got  cok  sos  ffc  dwd  \\\n",
       "0                56.0       1         1    1    1    1    1    0   \n",
       "1                49.0       1         1    0    0    1    0    0   \n",
       "2                 5.0       1         1    0    0    0    0    1   \n",
       "3                20.0       1         1    0    0    0    0    1   \n",
       "4                 0.0       1         1    0    0    1    0    0   \n",
       "\n",
       "   allegiances_Arryn  allegiances_Baratheon  ...  allegiances_House Tyrell  \\\n",
       "0                  0                      0  ...                         0   \n",
       "1                  0                      0  ...                         0   \n",
       "2                  0                      0  ...                         0   \n",
       "3                  0                      0  ...                         0   \n",
       "4                  0                      0  ...                         0   \n",
       "\n",
       "   allegiances_Lannister  allegiances_Martell  allegiances_Night's Watch  \\\n",
       "0                      1                    0                          0   \n",
       "1                      0                    0                          0   \n",
       "2                      0                    0                          0   \n",
       "3                      0                    0                          0   \n",
       "4                      1                    0                          0   \n",
       "\n",
       "   allegiances_None  allegiances_Stark  allegiances_Targaryen  \\\n",
       "0                 0                  0                      0   \n",
       "1                 1                  0                      0   \n",
       "2                 0                  0                      0   \n",
       "3                 0                  0                      0   \n",
       "4                 0                  0                      0   \n",
       "\n",
       "   allegiances_Tully  allegiances_Tyrell  allegiances_Wildling  \n",
       "0                  0                   0                     0  \n",
       "1                  0                   0                     0  \n",
       "2                  0                   0                     0  \n",
       "3                  0                   0                     0  \n",
       "4                  0                   0                     0  \n",
       "\n",
       "[5 rows x 29 columns]"
      ]
     },
     "execution_count": 7,
     "metadata": {},
     "output_type": "execute_result"
    }
   ],
   "source": [
    "# 2-3將Allegiances轉成dummy特徵(底下有幾種分類就會變成幾個特徵，值是0或1，本來的資料集就會再增加約20種特徵)\n",
    "# \"allegiances\" 提出再 Dummy:Series.str.get_dummies(*args, **kwargs)\n",
    "data_dummy = data.copy()\n",
    "X1 = data_dummy.iloc[:,5:]\n",
    "X2 = data_dummy[\"allegiances\"]\n",
    "\n",
    "dummies = pd.get_dummies(X2, prefix=\"allegiances\" ) \n",
    "data_get_dummy = pd.concat( [X1, dummies], axis = 1 )\n",
    "data_get_dummy.head()"
   ]
  },
  {
   "cell_type": "code",
   "execution_count": 8,
   "metadata": {},
   "outputs": [
    {
     "data": {
      "text/plain": [
       "array(['Lannister', 'None', 'House Targaryen', 'House Greyjoy',\n",
       "       'Baratheon', \"Night's Watch\", 'Arryn', 'House Stark',\n",
       "       'House Tyrell', 'Tyrell', 'Stark', 'Greyjoy', 'House Lannister',\n",
       "       'Martell', 'House Martell', 'Wildling', 'Targaryen', 'House Arryn',\n",
       "       'House Tully', 'Tully', 'House Baratheon'], dtype=object)"
      ]
     },
     "execution_count": 8,
     "metadata": {},
     "output_type": "execute_result"
    }
   ],
   "source": [
    "data_dummy[\"allegiances\"].unique()\n",
    "# columns = 原特徵 8個 + allegiances_dummy 21個 = 29 columns →正確"
   ]
  },
  {
   "cell_type": "code",
   "execution_count": 63,
   "metadata": {},
   "outputs": [
    {
     "name": "stdout",
     "output_type": "stream",
     "text": [
      "(687, 29)\n",
      "--------------------\n",
      "(230, 29)\n",
      "--------------------\n",
      "(687,)\n",
      "--------------------\n"
     ]
    },
    {
     "data": {
      "text/plain": [
       "(230,)"
      ]
     },
     "execution_count": 63,
     "metadata": {},
     "output_type": "execute_result"
    }
   ],
   "source": [
    "# 2-4亂數拆成訓練集(75%)與測試集(25%)\n",
    "\n",
    "X = data_get_dummy\n",
    "y = data_dummy['book_of_death']\n",
    "#載入訓練組及測試組分組套件\n",
    "from sklearn.model_selection import train_test_split\n",
    "#設定隨機種子為42，測試集比例佔25%\n",
    "X_train, X_test, y_train, y_test = train_test_split(X,y, test_size=0.25,random_state=42)\n",
    "\n",
    "#確定train和test資料\n",
    "print(X_train.shape)\n",
    "print(\"-\" * 20)\n",
    "print(X_test.shape)\n",
    "print(\"-\" * 20)\n",
    "print(y_train.shape)\n",
    "print(\"-\" * 20)\n",
    "y_test.shape"
   ]
  },
  {
   "cell_type": "code",
   "execution_count": 66,
   "metadata": {},
   "outputs": [
    {
     "name": "stdout",
     "output_type": "stream",
     "text": [
      "precision_2_depth= 0.4594594594594595\n",
      "recall_2_depth= 0.8225806451612904\n",
      "accuracy_2_depth= 0.691304347826087\n",
      "----------------------------------------\n",
      "precision_3_depth= 0.5063291139240507\n",
      "recall_3_depth= 0.6451612903225806\n",
      "accuracy_3_depth= 0.7347826086956522\n",
      "----------------------------------------\n",
      "precision_4_depth= 0.5\n",
      "recall_4_depth= 0.2903225806451613\n",
      "accuracy_4_depth= 0.7304347826086957\n",
      "----------------------------------------\n",
      "precision_5_depth= 0.4878048780487805\n",
      "recall_5_depth= 0.6451612903225806\n",
      "accuracy_5_depth= 0.7217391304347827\n",
      "----------------------------------------\n",
      "precision_6_depth= 0.5303030303030303\n",
      "recall_6_depth= 0.5645161290322581\n",
      "accuracy_6_depth= 0.7478260869565218\n",
      "----------------------------------------\n",
      "precision_7_depth= 0.52\n",
      "recall_7_depth= 0.6290322580645161\n",
      "accuracy_7_depth= 0.7434782608695653\n",
      "----------------------------------------\n",
      "precision_8_depth= 0.4675324675324675\n",
      "recall_8_depth= 0.5806451612903226\n",
      "accuracy_8_depth= 0.7086956521739131\n",
      "----------------------------------------\n"
     ]
    }
   ],
   "source": [
    "\"\"\"\n",
    "3)使用scikit-learn的DecisionTreeClassifier進行預測(可以先試著將網頁範例(iris)跑出來再使用這次作業的資料集)\n",
    "\"\"\"\n",
    "from sklearn import tree\n",
    "from sklearn.metrics import precision_score, recall_score, accuracy_score\n",
    "\n",
    "X=X_train\n",
    "y=y_train\n",
    "\n",
    "#樹深=2\n",
    "clf_2depth = tree.DecisionTreeClassifier(max_depth=2)\n",
    "clf_2depth = clf_2depth.fit(X,y)\n",
    "Y_prediction_2depth = clf_2depth.predict(X_test)\n",
    "\n",
    "precision2 = precision_score(y_test,Y_prediction_2depth)\n",
    "recall2 = recall_score(y_test,Y_prediction_2depth)\n",
    "accuracy2 = accuracy_score(y_test,Y_prediction_2depth)\n",
    "print(\"precision_2_depth=\",precision2)\n",
    "print(\"recall_2_depth=\",recall2)\n",
    "print(\"accuracy_2_depth=\",accuracy2)\n",
    "print(\"-\" * 40)\n",
    "\n",
    "#樹深=3\n",
    "clf_3depth = tree.DecisionTreeClassifier(max_depth=3)\n",
    "clf_3depth = clf_3depth.fit(X,y)\n",
    "Y_prediction_3depth = clf_3depth.predict(X_test)\n",
    "\n",
    "precision3 = precision_score(y_test,Y_prediction_3depth)\n",
    "recall3 = recall_score(y_test,Y_prediction_3depth)\n",
    "accuracy3 = accuracy_score(y_test,Y_prediction_3depth)\n",
    "print(\"precision_3_depth=\",precision3)\n",
    "print(\"recall_3_depth=\",recall3)\n",
    "print(\"accuracy_3_depth=\",accuracy3)\n",
    "print(\"-\" * 40)\n",
    "\n",
    "#樹深=4\n",
    "clf_4depth = tree.DecisionTreeClassifier(max_depth=4)\n",
    "clf_4depth = clf_4depth.fit(X,y)\n",
    "Y_prediction_4depth = clf_4depth.predict(X_test)\n",
    "\n",
    "precision4 = precision_score(y_test,Y_prediction_4depth)\n",
    "recall4 = recall_score(y_test,Y_prediction_4depth)\n",
    "accuracy4 = accuracy_score(y_test,Y_prediction_4depth)\n",
    "print(\"precision_4_depth=\",precision4)\n",
    "print(\"recall_4_depth=\",recall4)\n",
    "print(\"accuracy_4_depth=\",accuracy4)\n",
    "print(\"-\" * 40)\n",
    "\n",
    "#樹深=5\n",
    "clf_5depth = tree.DecisionTreeClassifier(max_depth=5)\n",
    "clf_5depth = clf_5depth.fit(X,y)\n",
    "Y_prediction_5depth = clf_5depth.predict(X_test)\n",
    "\n",
    "precision5 = precision_score(y_test,Y_prediction_5depth)\n",
    "recall5 = recall_score(y_test,Y_prediction_5depth)\n",
    "accuracy5 = accuracy_score(y_test,Y_prediction_5depth)\n",
    "print(\"precision_5_depth=\",precision5)\n",
    "print(\"recall_5_depth=\",recall5)\n",
    "print(\"accuracy_5_depth=\",accuracy5)\n",
    "print(\"-\" * 40)\n",
    "\n",
    "#樹深=6\n",
    "clf_6depth = tree.DecisionTreeClassifier(max_depth=6)\n",
    "clf_6depth = clf_6depth.fit(X,y)\n",
    "Y_prediction_6depth = clf_6depth.predict(X_test)\n",
    "\n",
    "precision6 = precision_score(y_test,Y_prediction_6depth)\n",
    "recall6 = recall_score(y_test,Y_prediction_6depth)\n",
    "accuracy6 = accuracy_score(y_test,Y_prediction_6depth)\n",
    "print(\"precision_6_depth=\",precision6)\n",
    "print(\"recall_6_depth=\",recall6)\n",
    "print(\"accuracy_6_depth=\",accuracy6)\n",
    "print(\"-\" * 40)\n",
    "\n",
    "#樹深=7\n",
    "clf_7depth = tree.DecisionTreeClassifier(max_depth=7)\n",
    "clf_7depth = clf_7depth.fit(X,y)\n",
    "Y_prediction_7depth = clf_7depth.predict(X_test)\n",
    "\n",
    "precision7 = precision_score(y_test,Y_prediction_7depth)\n",
    "recall7 = recall_score(y_test,Y_prediction_7depth)\n",
    "accuracy7 = accuracy_score(y_test,Y_prediction_7depth)\n",
    "print(\"precision_7_depth=\",precision7)\n",
    "print(\"recall_7_depth=\",recall7)\n",
    "print(\"accuracy_7_depth=\",accuracy7)\n",
    "print(\"-\" * 40)\n",
    "\n",
    "#樹深=8\n",
    "clf_8depth = tree.DecisionTreeClassifier(max_depth=8)\n",
    "clf_8depth = clf_8depth.fit(X,y)\n",
    "Y_prediction_8depth = clf_8depth.predict(X_test)\n",
    "\n",
    "precision8 = precision_score(y_test,Y_prediction_8depth)\n",
    "recall8 = recall_score(y_test,Y_prediction_8depth)\n",
    "accuracy8 = accuracy_score(y_test,Y_prediction_8depth)\n",
    "print(\"precision_8_depth=\",precision8)\n",
    "print(\"recall_8_depth=\",recall8)\n",
    "print(\"accuracy_8_depth=\",accuracy8)\n",
    "print(\"-\" * 40)"
   ]
  },
  {
   "cell_type": "code",
   "execution_count": 58,
   "metadata": {},
   "outputs": [
    {
     "data": {
      "text/plain": [
       "array([[129,  39],\n",
       "       [ 22,  40]], dtype=int64)"
      ]
     },
     "execution_count": 58,
     "metadata": {},
     "output_type": "execute_result"
    }
   ],
   "source": [
    "\"\"\"\n",
    "4)做出Confusion Matrix，並計算Precision, Recall, Accuracy (提示: 可使用sklearn.metrics)\n",
    "\"\"\"\n",
    "from sklearn.metrics import confusion_matrix\n",
    "from sklearn.metrics import plot_confusion_matrix\n",
    "confusion_matrix(y_test,Y_prediction)"
   ]
  },
  {
   "cell_type": "code",
   "execution_count": 59,
   "metadata": {},
   "outputs": [
    {
     "data": {
      "image/png": "[encoded data removed]",
      "text/plain": [
       "<Figure size 432x288 with 2 Axes>"
      ]
     },
     "metadata": {},
     "output_type": "display_data"
    }
   ],
   "source": [
    "# 叫出圖式化confusion_matrix，確認 TP、TN、FN、FP\n",
    "plot_confusion_matrix(clf, X_test, y_test)  \n",
    "plt.show()  "
   ]
  },
  {
   "cell_type": "code",
   "execution_count": 60,
   "metadata": {},
   "outputs": [
    {
     "name": "stdout",
     "output_type": "stream",
     "text": [
      "Precision= 0.5063291139240507\n",
      "Recall= 0.6451612903225806\n",
      "Accuracy= 0.7347826086956522\n"
     ]
    }
   ],
   "source": [
    "# 計算Precision, Recall, Accuracy\n",
    "# I.手動計算\n",
    "Precision = 40/(39+40)\n",
    "Recall = 40/(22+40)\n",
    "Accuracy = (129+40)/(129+39+22+40)\n",
    "print(\"Precision=\",Precision)\n",
    "print(\"Recall=\",Recall)\n",
    "print(\"Accuracy=\",Accuracy)"
   ]
  },
  {
   "cell_type": "code",
   "execution_count": 61,
   "metadata": {},
   "outputs": [
    {
     "name": "stdout",
     "output_type": "stream",
     "text": [
      "precision= 0.5063291139240507\n",
      "recall= 0.6451612903225806\n",
      "accuracy= 0.7347826086956522\n"
     ]
    }
   ],
   "source": [
    "# 計算Precision, Recall, Accuracy\n",
    "# II. 函式計算\n",
    "from sklearn.metrics import precision_score, recall_score, accuracy_score\n",
    "\n",
    "precision = precision_score(y_test,Y_prediction)\n",
    "recall = recall_score(y_test,Y_prediction)\n",
    "accuracy = accuracy_score(y_test,Y_prediction)\n",
    "print(\"precision=\",precision)\n",
    "print(\"recall=\",recall)\n",
    "print(\"accuracy=\",accuracy)"
   ]
  },
  {
   "cell_type": "code",
   "execution_count": 67,
   "metadata": {},
   "outputs": [
    {
     "data": {
      "text/plain": [
       "'HW1_309708015_周映儀_tree圖.pdf'"
      ]
     },
     "execution_count": 67,
     "metadata": {},
     "output_type": "execute_result"
    }
   ],
   "source": [
    "\"\"\"\n",
    "5)產出決策樹的圖 \n",
    "\"\"\"\n",
    "import graphviz \n",
    "dot_data = tree.export_graphviz(clf, out_file=None) \n",
    "graph = graphviz.Source(dot_data) \n",
    "graph.render(\"HW1_309708015_周映儀_tree圖\") "
   ]
  },
  {
   "cell_type": "code",
   "execution_count": null,
   "metadata": {},
   "outputs": [],
   "source": []
  }
 ],
 "metadata": {
  "kernelspec": {
   "display_name": "py37",
   "language": "python",
   "name": "env_name"
  },
  "language_info": {
   "codemirror_mode": {
    "name": "ipython",
    "version": 3
   },
   "file_extension": ".py",
   "mimetype": "text/x-python",
   "name": "python",
   "nbconvert_exporter": "python",
   "pygments_lexer": "ipython3",
   "version": "3.7.7"
  }
 },
 "nbformat": 4,
 "nbformat_minor": 4
}
